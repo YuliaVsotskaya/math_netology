{
  "nbformat": 4,
  "nbformat_minor": 0,
  "metadata": {
    "colab": {
      "name": "Untitled",
      "version": "0.3.2",
      "provenance": [],
      "include_colab_link": true
    },
    "kernelspec": {
      "name": "python3",
      "display_name": "Python 3"
    }
  },
  "cells": [
    {
      "cell_type": "markdown",
      "metadata": {
        "id": "view-in-github",
        "colab_type": "text"
      },
      "source": [
        "<a href=\"https://colab.research.google.com/github/yustinaivanova/math_netology/blob/master/dz_2.ipynb\" target=\"_parent\"><img src=\"https://colab.research.google.com/assets/colab-badge.svg\" alt=\"Open In Colab\"/></a>"
      ]
    },
    {
      "cell_type": "markdown",
      "metadata": {
        "id": "OpSmzcKfp3SU",
        "colab_type": "text"
      },
      "source": [
        "# Математика для Data Science.\n",
        "# Домашнее задание №2."
      ]
    },
    {
      "cell_type": "markdown",
      "metadata": {
        "id": "ihQLrzZbjoY0",
        "colab_type": "text"
      },
      "source": [
        "Загрузим датасет о ценах на дома в Бостоне. "
      ]
    },
    {
      "cell_type": "code",
      "metadata": {
        "id": "douSu7wTjKRH",
        "colab_type": "code",
        "colab": {
          "base_uri": "https://localhost:8080/",
          "height": 34
        },
        "outputId": "4a23b0b6-dbb0-48ee-c867-224cfe9657a8"
      },
      "source": [
        "from sklearn.datasets import load_boston\n",
        "boston = load_boston()\n",
        "print(boston.data.shape)"
      ],
      "execution_count": 1,
      "outputs": [
        {
          "output_type": "stream",
          "text": [
            "(506, 13)\n"
          ],
          "name": "stdout"
        }
      ]
    },
    {
      "cell_type": "markdown",
      "metadata": {
        "id": "PDTdKB5akONC",
        "colab_type": "text"
      },
      "source": [
        "Каждый дом - это вектор в 13-мерном пространстве. \n",
        "Написать код для подсчета скалярного произведения двух первых домов и датасета."
      ]
    },
    {
      "cell_type": "code",
      "metadata": {
        "id": "jNVvfGCskcIk",
        "colab_type": "code",
        "colab": {}
      },
      "source": [
        "x1 = boston.data[0] # дом 1\n",
        "x2 = boston.data[1] # дом 2"
      ],
      "execution_count": 0,
      "outputs": []
    },
    {
      "cell_type": "code",
      "metadata": {
        "id": "S6Hm7OQ7lVyZ",
        "colab_type": "code",
        "colab": {
          "base_uri": "https://localhost:8080/",
          "height": 34
        },
        "outputId": "0f18860a-1f36-4a64-b9b9-e1ac9ca397db"
      },
      "source": [
        ""
      ],
      "execution_count": 7,
      "outputs": [
        {
          "output_type": "execute_result",
          "data": {
            "text/plain": [
              "234704.86490859918"
            ]
          },
          "metadata": {
            "tags": []
          },
          "execution_count": 7
        }
      ]
    },
    {
      "cell_type": "markdown",
      "metadata": {
        "id": "ffAL_WZulPzJ",
        "colab_type": "text"
      },
      "source": [
        "Найти косинус угла между векторами x1 и x2"
      ]
    },
    {
      "cell_type": "code",
      "metadata": {
        "id": "263UN5g2mCpw",
        "colab_type": "code",
        "colab": {
          "base_uri": "https://localhost:8080/",
          "height": 34
        },
        "outputId": "10685c7d-3ade-4c4b-b9d5-6fbdd15feb7a"
      },
      "source": [
        ""
      ],
      "execution_count": 10,
      "outputs": [
        {
          "output_type": "execute_result",
          "data": {
            "text/plain": [
              "0.994296998616362"
            ]
          },
          "metadata": {
            "tags": []
          },
          "execution_count": 10
        }
      ]
    },
    {
      "cell_type": "markdown",
      "metadata": {
        "id": "jKUuUpQMmB2r",
        "colab_type": "text"
      },
      "source": [
        "Найти расстояние между векторами"
      ]
    }
  ]
}
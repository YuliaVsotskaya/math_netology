{
  "nbformat": 4,
  "nbformat_minor": 0,
  "metadata": {
    "colab": {
      "name": "lecture_4.ipynb",
      "version": "0.3.2",
      "provenance": [],
      "toc_visible": true,
      "include_colab_link": true
    },
    "kernelspec": {
      "name": "python3",
      "display_name": "Python 3"
    }
  },
  "cells": [
    {
      "cell_type": "markdown",
      "metadata": {
        "id": "view-in-github",
        "colab_type": "text"
      },
      "source": [
        "<a href=\"https://colab.research.google.com/github/yustinaivanova/math_netology/blob/master/lecture_4.ipynb\" target=\"_parent\"><img src=\"https://colab.research.google.com/assets/colab-badge.svg\" alt=\"Open In Colab\"/></a>"
      ]
    },
    {
      "cell_type": "markdown",
      "metadata": {
        "id": "da88zG2ZGb9Q",
        "colab_type": "text"
      },
      "source": [
        "# Математика для Data Science. Нетология. Лекция 4."
      ]
    },
    {
      "cell_type": "code",
      "metadata": {
        "id": "kurCEQJz0oFc",
        "colab_type": "code",
        "colab": {}
      },
      "source": [
        "import numpy as np\n",
        "import matplotlib.pyplot as plt\n",
        "import pandas as pd"
      ],
      "execution_count": 0,
      "outputs": []
    },
    {
      "cell_type": "markdown",
      "metadata": {
        "id": "inR6VlmZJqOw",
        "colab_type": "text"
      },
      "source": [
        "# Методы математической оптимизации"
      ]
    },
    {
      "cell_type": "markdown",
      "metadata": {
        "id": "6_EU4ZBPtasY",
        "colab_type": "text"
      },
      "source": [
        "Имеется задача классификации. Нужно определить, к какому классу относится тот или иной элемент. Если используется двухмерное пространство, то мы ищем прямую, которая будет отделять два класса максимально равномерно. "
      ]
    },
    {
      "cell_type": "markdown",
      "metadata": {
        "id": "wZi6I1VX36Zv",
        "colab_type": "text"
      },
      "source": [
        "Задача классификатора - подобрать такую прямую, которая будет отделять один класс от другого максимально далеко в пространстве."
      ]
    },
    {
      "cell_type": "code",
      "metadata": {
        "id": "6njxWg7SuHvj",
        "colab_type": "code",
        "outputId": "ca6362e2-f5ee-4fbc-d3b9-b3a5e8dffdd0",
        "colab": {
          "base_uri": "https://localhost:8080/",
          "height": 269
        }
      },
      "source": [
        "\n",
        "# imports\n",
        "import numpy as np\n",
        "import matplotlib.pyplot as plt\n",
        "import pandas as pd\n",
        "\n",
        "\n",
        "def load_data(path, header):\n",
        "    marks_df = pd.read_csv(path, header=header)\n",
        "    return marks_df\n",
        "\n",
        "\n",
        "if __name__ == \"__main__\":\n",
        "    # load the data from the file\n",
        "    data = load_data(\"marks.txt\", None)\n",
        "\n",
        "    # X = feature values, all the columns except the last column\n",
        "    X = data.iloc[:, :-1]\n",
        "\n",
        "    # y = target values, last column of the data frame\n",
        "    y = data.iloc[:, -1]\n",
        "\n",
        "    # filter out the applicants that got admitted\n",
        "    admitted = data.loc[y == 1]\n",
        "\n",
        "    # filter out the applicants that din't get admission\n",
        "    not_admitted = data.loc[y == 0]\n",
        "\n",
        "    # plots\n",
        "    plt.scatter(admitted.iloc[:, 0], admitted.iloc[:, 1], s=10, label='Admitted')\n",
        "    plt.scatter(not_admitted.iloc[:, 0], not_admitted.iloc[:, 1], s=10, label='Not Admitted')\n",
        "    plt.legend()\n",
        "    plt.show()"
      ],
      "execution_count": 0,
      "outputs": [
        {
          "output_type": "display_data",
          "data": {
            "image/png": "[encoded data removed]",
            "text/plain": [
              "<Figure size 432x288 with 1 Axes>"
            ]
          },
          "metadata": {
            "tags": []
          }
        }
      ]
    },
    {
      "cell_type": "code",
      "metadata": {
        "id": "VcFjxh4OuR29",
        "colab_type": "code",
        "colab": {}
      },
      "source": [
        "X = np.c_[np.ones((X.shape[0], 1)), X]\n",
        "y = y[:, np.newaxis]\n",
        "theta = np.zeros((X.shape[1], 1))"
      ],
      "execution_count": 0,
      "outputs": []
    },
    {
      "cell_type": "code",
      "metadata": {
        "id": "KBjL5A1K7Uxf",
        "colab_type": "code",
        "colab": {}
      },
      "source": [
        "def sigmoid(x):\n",
        "    # Activation function used to map any real value between 0 and 1\n",
        "    return 1 / (1 + np.exp(-x))\n",
        "\n",
        "def net_input(theta, x):\n",
        "    # Computes the weighted sum of inputs\n",
        "    return np.dot(x, theta)\n",
        "\n",
        "def probability(theta, x):\n",
        "    # Returns the probability after passing through sigmoid\n",
        "    return sigmoid(net_input(theta, x))\n",
        "  \n",
        "def cost_function(theta, x, y):\n",
        "    # Computes the cost function for all the training samples\n",
        "    m = x.shape[0]\n",
        "    total_cost = -(1 / m) * np.sum(\n",
        "        y * np.log(probability(theta, x)) + (1 - y) * np.log(\n",
        "            1 - probability(theta, x)))\n",
        "    return total_cost\n",
        "\n",
        "def gradient(theta, x, y):\n",
        "    # Computes the gradient of the cost function at the point theta\n",
        "    m = x.shape[0]\n",
        "    return (1 / m) * np.dot(x.T, sigmoid(net_input(theta,   x)) - y)"
      ],
      "execution_count": 0,
      "outputs": []
    },
    {
      "cell_type": "code",
      "metadata": {
        "id": "FiuUmy4LOHpx",
        "colab_type": "code",
        "colab": {}
      },
      "source": [
        "import scipy \n",
        "from scipy.optimize import fmin_tnc\n",
        "\n",
        "\n",
        "def fit(x, y, theta):\n",
        "    opt_weights = fmin_tnc(func=cost_function, x0=theta,\n",
        "                  fprime=gradient,args=(x, y.flatten()))\n",
        "    return opt_weights[0]\n",
        "\n",
        "\n",
        "parameters = fit(X, y, theta)\n",
        "#theta = np.zeros((X.shape[1], 1))\n",
        "#parameters = fit(np.array(X), np.array(Y), theta=[0.01, 0.01])"
      ],
      "execution_count": 0,
      "outputs": []
    },
    {
      "cell_type": "code",
      "metadata": {
        "id": "lmA-kHdYxiOX",
        "colab_type": "code",
        "outputId": "fbcde0e5-8d5b-46ff-8338-7e369842a975",
        "colab": {
          "base_uri": "https://localhost:8080/",
          "height": 34
        }
      },
      "source": [
        "X.shape"
      ],
      "execution_count": 0,
      "outputs": [
        {
          "output_type": "execute_result",
          "data": {
            "text/plain": [
              "(100, 3)"
            ]
          },
          "metadata": {
            "tags": []
          },
          "execution_count": 83
        }
      ]
    },
    {
      "cell_type": "markdown",
      "metadata": {
        "id": "iKvAvc2Gpg6N",
        "colab_type": "text"
      },
      "source": [
        "Параметры модели"
      ]
    },
    {
      "cell_type": "code",
      "metadata": {
        "id": "vJ65HutipdQ4",
        "colab_type": "code",
        "outputId": "e59929fe-d529-4929-ea17-0c31d41246d3",
        "colab": {
          "base_uri": "https://localhost:8080/",
          "height": 34
        }
      },
      "source": [
        "parameters"
      ],
      "execution_count": 0,
      "outputs": [
        {
          "output_type": "execute_result",
          "data": {
            "text/plain": [
              "array([-25.16131865,   0.20623159,   0.20147149])"
            ]
          },
          "metadata": {
            "tags": []
          },
          "execution_count": 55
        }
      ]
    },
    {
      "cell_type": "markdown",
      "metadata": {
        "id": "ij0FiMWrqBk1",
        "colab_type": "text"
      },
      "source": [
        "Найденные параметры модели показывают линейную функцию вида:"
      ]
    },
    {
      "cell_type": "markdown",
      "metadata": {
        "id": "zmp3S1vcp-zZ",
        "colab_type": "text"
      },
      "source": [
        "![alt text](https://sun9-10.userapi.com/c855428/v855428442/e114a/uqRYWgixSuc.jpg)"
      ]
    },
    {
      "cell_type": "markdown",
      "metadata": {
        "id": "YlGQihY5qQbs",
        "colab_type": "text"
      },
      "source": [
        "Приравнивая h(x) нулю, найдём уравнение прямой для классификации:"
      ]
    },
    {
      "cell_type": "markdown",
      "metadata": {
        "id": "atbgmxROqGuL",
        "colab_type": "text"
      },
      "source": [
        "![alt text](https://sun9-46.userapi.com/c855428/v855428442/e1143/MBpde4xtYXk.jpg)"
      ]
    },
    {
      "cell_type": "code",
      "metadata": {
        "id": "y5w9mOQ3qeTP",
        "colab_type": "code",
        "outputId": "c94f2837-bc22-45fb-c37f-10c2ab69ff03",
        "colab": {
          "base_uri": "https://localhost:8080/",
          "height": 283
        }
      },
      "source": [
        "x_values = [np.min(X[:, 1] - 5), np.max(X[:, 2] + 5)]\n",
        "y_values = - (parameters[0] + np.dot(parameters[1], x_values)) / parameters[2]\n",
        "\n",
        "plt.plot(x_values, y_values, label='Decision Boundary')\n",
        "plt.scatter(admitted.iloc[:, 0], admitted.iloc[:, 1], s=10, label='Admitted')\n",
        "plt.scatter(not_admitted.iloc[:, 0], not_admitted.iloc[:, 1], s=10, label='Not Admitted')\n",
        "\n",
        "plt.xlabel('Marks in 1st Exam')\n",
        "plt.ylabel('Marks in 2nd Exam')\n",
        "plt.legend()\n",
        "plt.show()"
      ],
      "execution_count": 0,
      "outputs": [
        {
          "output_type": "display_data",
          "data": {
            "image/png": "[encoded data removed]",
            "text/plain": [
              "<Figure size 432x288 with 1 Axes>"
            ]
          },
          "metadata": {
            "tags": []
          }
        }
      ]
    },
    {
      "cell_type": "markdown",
      "metadata": {
        "id": "yttux_guvGBv",
        "colab_type": "text"
      },
      "source": [
        "**Точность модели:**"
      ]
    },
    {
      "cell_type": "code",
      "metadata": {
        "id": "HImEOCOnu-Y4",
        "colab_type": "code",
        "outputId": "f7558892-36e7-4f0d-c09e-cbfa16b85aa4",
        "colab": {
          "base_uri": "https://localhost:8080/",
          "height": 34
        }
      },
      "source": [
        "def predict(x):\n",
        "    theta = parameters[:, np.newaxis]\n",
        "    return probability(theta, x)\n",
        "\n",
        "def accuracy(x, actual_classes, probab_threshold=0.5):\n",
        "    predicted_classes = (predict(x) >= \n",
        "                         probab_threshold).astype(int)\n",
        "    predicted_classes = predicted_classes.flatten()\n",
        "    accuracy = np.mean(predicted_classes == actual_classes)\n",
        "    return accuracy * 100\n",
        "accuracy(X, y.flatten())"
      ],
      "execution_count": 0,
      "outputs": [
        {
          "output_type": "execute_result",
          "data": {
            "text/plain": [
              "89.0"
            ]
          },
          "metadata": {
            "tags": []
          },
          "execution_count": 61
        }
      ]
    },
    {
      "cell_type": "markdown",
      "metadata": {
        "id": "HZ3cAs_xvMv7",
        "colab_type": "text"
      },
      "source": [
        "Библиотека sklearn позволяет решить задачу:"
      ]
    },
    {
      "cell_type": "code",
      "metadata": {
        "id": "C2kDn058nbaj",
        "colab_type": "code",
        "outputId": "3f8ea930-265a-40ed-cde5-3c75f164abe0",
        "colab": {
          "base_uri": "https://localhost:8080/",
          "height": 105
        }
      },
      "source": [
        "from sklearn.linear_model import LogisticRegression\n",
        "from sklearn.metrics import accuracy_score \n",
        "model = LogisticRegression()\n",
        "model.fit(X, y)\n",
        "predicted_classes = model.predict(X)\n",
        "accuracy = accuracy_score(y.flatten(),predicted_classes)\n",
        "parameters = model.coef_"
      ],
      "execution_count": 0,
      "outputs": [
        {
          "output_type": "stream",
          "text": [
            "/usr/local/lib/python3.6/dist-packages/sklearn/linear_model/logistic.py:432: FutureWarning: Default solver will be changed to 'lbfgs' in 0.22. Specify a solver to silence this warning.\n",
            "  FutureWarning)\n",
            "/usr/local/lib/python3.6/dist-packages/sklearn/utils/validation.py:724: DataConversionWarning: A column-vector y was passed when a 1d array was expected. Please change the shape of y to (n_samples, ), for example using ravel().\n",
            "  y = column_or_1d(y, warn=True)\n"
          ],
          "name": "stderr"
        }
      ]
    },
    {
      "cell_type": "markdown",
      "metadata": {
        "id": "uV0TwZusvcqT",
        "colab_type": "text"
      },
      "source": [
        "Параметры прямой:"
      ]
    },
    {
      "cell_type": "code",
      "metadata": {
        "id": "zOY7XhRNvfzg",
        "colab_type": "code",
        "outputId": "3d29ae81-67b1-425c-bd79-76a5b426c08c",
        "colab": {
          "base_uri": "https://localhost:8080/",
          "height": 34
        }
      },
      "source": [
        "parameters"
      ],
      "execution_count": 0,
      "outputs": [
        {
          "output_type": "execute_result",
          "data": {
            "text/plain": [
              "array([[-2.85831439,  0.05214733,  0.04531467]])"
            ]
          },
          "metadata": {
            "tags": []
          },
          "execution_count": 64
        }
      ]
    },
    {
      "cell_type": "markdown",
      "metadata": {
        "id": "_654WZo2u5j_",
        "colab_type": "text"
      },
      "source": [
        "Загрузим датасет для классификации: heart desease (https://www.kaggle.com/bgr2089/heart-analysis).\n",
        "\n",
        "*  age\n",
        "*  sex\n",
        "*  cp chest pain type (4 values)\n",
        "*  trestbps resting blood pressure\n",
        "*  chol serum cholestoral in mg/dl\n",
        "*  fbs fasting blood sugar > 120 mg/dl\n",
        "*  restecg resting electrocardiographic results (values 0,1,2)\n",
        "*  thalach maximum heart rate achieved\n",
        "*  exang exercise induced angina\n",
        "*  oldpeak = ST depression induced by exercise relative to rest. A test that indicates a high probability of coronary artery disease is one in which there is substantial ST depression at low work rate associated with   typical angina-like pain and a drop in blood pressure. Deeper and more widespread ST depression generally indicates more severe or extensive disease.\n",
        "*  the slope of the peak exercise ST segment\n",
        "*  ca number of major vessels (0-3) colored by flourosopy\n",
        "*  thal: 3 = normal; 6 = fixed defect; 7 = reversable defect\n",
        "*  target - ill or not\n",
        "\n",
        "Каждый человек в датасете имеет сердечную болезнь в диапазоне от 0 (есть болезнь) до 4 (нет болезни). Таким образом, данный датасет - типичная проблема классификации, где всего 5 классов, включая класс 0."
      ]
    },
    {
      "cell_type": "code",
      "metadata": {
        "id": "r3io8x6kuZyM",
        "colab_type": "code",
        "outputId": "d5ef73d7-f0f9-4a60-cb54-acd086ce3fde",
        "colab": {
          "base_uri": "https://localhost:8080/",
          "height": 204
        }
      },
      "source": [
        "url=\"http://yustiks.ru/dataset/heart.csv\"\n",
        "data=pd.read_csv(url)\n",
        "data.head()"
      ],
      "execution_count": 0,
      "outputs": [
        {
          "output_type": "execute_result",
          "data": {
            "text/html": [
              "<div>\n",
              "<style scoped>\n",
              "    .dataframe tbody tr th:only-of-type {\n",
              "        vertical-align: middle;\n",
              "    }\n",
              "\n",
              "    .dataframe tbody tr th {\n",
              "        vertical-align: top;\n",
              "    }\n",
              "\n",
              "    .dataframe thead th {\n",
              "        text-align: right;\n",
              "    }\n",
              "</style>\n",
              "<table border=\"1\" class=\"dataframe\">\n",
              "  <thead>\n",
              "    <tr style=\"text-align: right;\">\n",
              "      <th></th>\n",
              "      <th>age</th>\n",
              "      <th>sex</th>\n",
              "      <th>cp</th>\n",
              "      <th>trestbps</th>\n",
              "      <th>chol</th>\n",
              "      <th>fbs</th>\n",
              "      <th>restecg</th>\n",
              "      <th>thalach</th>\n",
              "      <th>exang</th>\n",
              "      <th>oldpeak</th>\n",
              "      <th>slope</th>\n",
              "      <th>ca</th>\n",
              "      <th>thal</th>\n",
              "      <th>target</th>\n",
              "    </tr>\n",
              "  </thead>\n",
              "  <tbody>\n",
              "    <tr>\n",
              "      <th>0</th>\n",
              "      <td>63</td>\n",
              "      <td>1</td>\n",
              "      <td>3</td>\n",
              "      <td>145</td>\n",
              "      <td>233</td>\n",
              "      <td>1</td>\n",
              "      <td>0</td>\n",
              "      <td>150</td>\n",
              "      <td>0</td>\n",
              "      <td>2.3</td>\n",
              "      <td>0</td>\n",
              "      <td>0</td>\n",
              "      <td>1</td>\n",
              "      <td>1</td>\n",
              "    </tr>\n",
              "    <tr>\n",
              "      <th>1</th>\n",
              "      <td>37</td>\n",
              "      <td>1</td>\n",
              "      <td>2</td>\n",
              "      <td>130</td>\n",
              "      <td>250</td>\n",
              "      <td>0</td>\n",
              "      <td>1</td>\n",
              "      <td>187</td>\n",
              "      <td>0</td>\n",
              "      <td>3.5</td>\n",
              "      <td>0</td>\n",
              "      <td>0</td>\n",
              "      <td>2</td>\n",
              "      <td>1</td>\n",
              "    </tr>\n",
              "    <tr>\n",
              "      <th>2</th>\n",
              "      <td>41</td>\n",
              "      <td>0</td>\n",
              "      <td>1</td>\n",
              "      <td>130</td>\n",
              "      <td>204</td>\n",
              "      <td>0</td>\n",
              "      <td>0</td>\n",
              "      <td>172</td>\n",
              "      <td>0</td>\n",
              "      <td>1.4</td>\n",
              "      <td>2</td>\n",
              "      <td>0</td>\n",
              "      <td>2</td>\n",
              "      <td>1</td>\n",
              "    </tr>\n",
              "    <tr>\n",
              "      <th>3</th>\n",
              "      <td>56</td>\n",
              "      <td>1</td>\n",
              "      <td>1</td>\n",
              "      <td>120</td>\n",
              "      <td>236</td>\n",
              "      <td>0</td>\n",
              "      <td>1</td>\n",
              "      <td>178</td>\n",
              "      <td>0</td>\n",
              "      <td>0.8</td>\n",
              "      <td>2</td>\n",
              "      <td>0</td>\n",
              "      <td>2</td>\n",
              "      <td>1</td>\n",
              "    </tr>\n",
              "    <tr>\n",
              "      <th>4</th>\n",
              "      <td>57</td>\n",
              "      <td>0</td>\n",
              "      <td>0</td>\n",
              "      <td>120</td>\n",
              "      <td>354</td>\n",
              "      <td>0</td>\n",
              "      <td>1</td>\n",
              "      <td>163</td>\n",
              "      <td>1</td>\n",
              "      <td>0.6</td>\n",
              "      <td>2</td>\n",
              "      <td>0</td>\n",
              "      <td>2</td>\n",
              "      <td>1</td>\n",
              "    </tr>\n",
              "  </tbody>\n",
              "</table>\n",
              "</div>"
            ],
            "text/plain": [
              "   age  sex  cp  trestbps  chol  fbs  ...  exang  oldpeak  slope  ca  thal  target\n",
              "0   63    1   3       145   233    1  ...      0      2.3      0   0     1       1\n",
              "1   37    1   2       130   250    0  ...      0      3.5      0   0     2       1\n",
              "2   41    0   1       130   204    0  ...      0      1.4      2   0     2       1\n",
              "3   56    1   1       120   236    0  ...      0      0.8      2   0     2       1\n",
              "4   57    0   0       120   354    0  ...      1      0.6      2   0     2       1\n",
              "\n",
              "[5 rows x 14 columns]"
            ]
          },
          "metadata": {
            "tags": []
          },
          "execution_count": 104
        }
      ]
    },
    {
      "cell_type": "markdown",
      "metadata": {
        "id": "4aApho23wTP8",
        "colab_type": "text"
      },
      "source": [
        "Возьмём двухмерное пространство. Допустим, мы хотим на основе имеющихся атрибутов (cp - тип боли в груди и chol - уровень холестерола) определять болен человек или здоров. Первое - мы хотим научиться определять класс 0 (больных). Наша задача - найти прямую, которая будет отделять класс 0 от всех остальных в пространстве. "
      ]
    },
    {
      "cell_type": "code",
      "metadata": {
        "id": "52eSMopFwZaM",
        "colab_type": "code",
        "colab": {}
      },
      "source": [
        "var1 = 'oldpeak'\n",
        "var2 = 'cp'\n",
        "X = data.loc[:, [var1, var2]]\n",
        "Y = data.loc[:, ['target']]"
      ],
      "execution_count": 0,
      "outputs": []
    },
    {
      "cell_type": "code",
      "metadata": {
        "id": "ZdNpGdD-xGiQ",
        "colab_type": "code",
        "colab": {}
      },
      "source": [
        "X[0] = 1"
      ],
      "execution_count": 0,
      "outputs": []
    },
    {
      "cell_type": "code",
      "metadata": {
        "id": "nZpAtGaFyK26",
        "colab_type": "code",
        "outputId": "fcf4362b-8b5d-4902-8327-f97fe149415e",
        "colab": {
          "base_uri": "https://localhost:8080/",
          "height": 204
        }
      },
      "source": [
        "X.head()"
      ],
      "execution_count": 0,
      "outputs": [
        {
          "output_type": "execute_result",
          "data": {
            "text/html": [
              "<div>\n",
              "<style scoped>\n",
              "    .dataframe tbody tr th:only-of-type {\n",
              "        vertical-align: middle;\n",
              "    }\n",
              "\n",
              "    .dataframe tbody tr th {\n",
              "        vertical-align: top;\n",
              "    }\n",
              "\n",
              "    .dataframe thead th {\n",
              "        text-align: right;\n",
              "    }\n",
              "</style>\n",
              "<table border=\"1\" class=\"dataframe\">\n",
              "  <thead>\n",
              "    <tr style=\"text-align: right;\">\n",
              "      <th></th>\n",
              "      <th>oldpeak</th>\n",
              "      <th>cp</th>\n",
              "      <th>0</th>\n",
              "    </tr>\n",
              "  </thead>\n",
              "  <tbody>\n",
              "    <tr>\n",
              "      <th>0</th>\n",
              "      <td>2.3</td>\n",
              "      <td>3</td>\n",
              "      <td>1</td>\n",
              "    </tr>\n",
              "    <tr>\n",
              "      <th>1</th>\n",
              "      <td>3.5</td>\n",
              "      <td>2</td>\n",
              "      <td>1</td>\n",
              "    </tr>\n",
              "    <tr>\n",
              "      <th>2</th>\n",
              "      <td>1.4</td>\n",
              "      <td>1</td>\n",
              "      <td>1</td>\n",
              "    </tr>\n",
              "    <tr>\n",
              "      <th>3</th>\n",
              "      <td>0.8</td>\n",
              "      <td>1</td>\n",
              "      <td>1</td>\n",
              "    </tr>\n",
              "    <tr>\n",
              "      <th>4</th>\n",
              "      <td>0.6</td>\n",
              "      <td>0</td>\n",
              "      <td>1</td>\n",
              "    </tr>\n",
              "  </tbody>\n",
              "</table>\n",
              "</div>"
            ],
            "text/plain": [
              "   oldpeak  cp  0\n",
              "0      2.3   3  1\n",
              "1      3.5   2  1\n",
              "2      1.4   1  1\n",
              "3      0.8   1  1\n",
              "4      0.6   0  1"
            ]
          },
          "metadata": {
            "tags": []
          },
          "execution_count": 107
        }
      ]
    },
    {
      "cell_type": "code",
      "metadata": {
        "id": "ls3FCxgPxwvc",
        "colab_type": "code",
        "colab": {}
      },
      "source": [
        "new_index= [0, var1, var2]\n",
        "X = X.reindex(new_index, axis='columns')"
      ],
      "execution_count": 0,
      "outputs": []
    },
    {
      "cell_type": "code",
      "metadata": {
        "id": "IvpgTyWDypug",
        "colab_type": "code",
        "outputId": "ce2eedd4-d434-4492-ddcf-0b8f28bfd1b0",
        "colab": {
          "base_uri": "https://localhost:8080/",
          "height": 204
        }
      },
      "source": [
        "X.head()"
      ],
      "execution_count": 0,
      "outputs": [
        {
          "output_type": "execute_result",
          "data": {
            "text/html": [
              "<div>\n",
              "<style scoped>\n",
              "    .dataframe tbody tr th:only-of-type {\n",
              "        vertical-align: middle;\n",
              "    }\n",
              "\n",
              "    .dataframe tbody tr th {\n",
              "        vertical-align: top;\n",
              "    }\n",
              "\n",
              "    .dataframe thead th {\n",
              "        text-align: right;\n",
              "    }\n",
              "</style>\n",
              "<table border=\"1\" class=\"dataframe\">\n",
              "  <thead>\n",
              "    <tr style=\"text-align: right;\">\n",
              "      <th></th>\n",
              "      <th>0</th>\n",
              "      <th>oldpeak</th>\n",
              "      <th>cp</th>\n",
              "    </tr>\n",
              "  </thead>\n",
              "  <tbody>\n",
              "    <tr>\n",
              "      <th>0</th>\n",
              "      <td>1</td>\n",
              "      <td>2.3</td>\n",
              "      <td>3</td>\n",
              "    </tr>\n",
              "    <tr>\n",
              "      <th>1</th>\n",
              "      <td>1</td>\n",
              "      <td>3.5</td>\n",
              "      <td>2</td>\n",
              "    </tr>\n",
              "    <tr>\n",
              "      <th>2</th>\n",
              "      <td>1</td>\n",
              "      <td>1.4</td>\n",
              "      <td>1</td>\n",
              "    </tr>\n",
              "    <tr>\n",
              "      <th>3</th>\n",
              "      <td>1</td>\n",
              "      <td>0.8</td>\n",
              "      <td>1</td>\n",
              "    </tr>\n",
              "    <tr>\n",
              "      <th>4</th>\n",
              "      <td>1</td>\n",
              "      <td>0.6</td>\n",
              "      <td>0</td>\n",
              "    </tr>\n",
              "  </tbody>\n",
              "</table>\n",
              "</div>"
            ],
            "text/plain": [
              "   0  oldpeak  cp\n",
              "0  1      2.3   3\n",
              "1  1      3.5   2\n",
              "2  1      1.4   1\n",
              "3  1      0.8   1\n",
              "4  1      0.6   0"
            ]
          },
          "metadata": {
            "tags": []
          },
          "execution_count": 109
        }
      ]
    },
    {
      "cell_type": "code",
      "metadata": {
        "id": "KS7tf-BCwHBv",
        "colab_type": "code",
        "colab": {}
      },
      "source": [
        "list_indexes_class0 = Y[Y['target']==0].index.values.tolist()\n",
        "list_indexes_class1 = Y[Y['target']==1].index.values.tolist()\n",
        "X0 = X.loc[list_indexes_class0, :]\n",
        "X1 = X.loc[list_indexes_class1, :]"
      ],
      "execution_count": 0,
      "outputs": []
    },
    {
      "cell_type": "markdown",
      "metadata": {
        "id": "_6aAtEUIwK4l",
        "colab_type": "text"
      },
      "source": [
        "2 класса в пространстве"
      ]
    },
    {
      "cell_type": "code",
      "metadata": {
        "id": "H79Wjg0xwKEw",
        "colab_type": "code",
        "outputId": "26c9a92e-f8b1-41c8-91a4-d02f039a73ee",
        "colab": {
          "base_uri": "https://localhost:8080/",
          "height": 283
        }
      },
      "source": [
        "plt.xlabel(var1)\n",
        "plt.ylabel(var2)\n",
        "\n",
        "plt.scatter(X0.loc[:, var1], X0.loc[:, var2])\n",
        "plt.scatter(X1.loc[:, var1], X1.loc[:, var2])\n",
        "plt.legend(['больные', 'здоровые'])\n",
        "plt.show()"
      ],
      "execution_count": 0,
      "outputs": [
        {
          "output_type": "display_data",
          "data": {
            "image/png": "[encoded data removed]",
            "text/plain": [
              "<Figure size 432x288 with 1 Axes>"
            ]
          },
          "metadata": {
            "tags": []
          }
        }
      ]
    },
    {
      "cell_type": "markdown",
      "metadata": {
        "id": "XyS_yJCTwplI",
        "colab_type": "text"
      },
      "source": [
        "В данном случае (если посмотреть на данные), можно провести прямую приблизительно так, чтобы отделять один класс от другого:\n",
        "![alt text](https://sun9-55.userapi.com/c855232/v855232121/e05f8/P2gG1zvM3wY.jpg)"
      ]
    },
    {
      "cell_type": "markdown",
      "metadata": {
        "id": "tZkCiIWRxArn",
        "colab_type": "text"
      },
      "source": [
        "Я определила прямую графически, задача логистической регрессии - найти данную прямую математически."
      ]
    },
    {
      "cell_type": "code",
      "metadata": {
        "id": "YHjPGbLPxp1p",
        "colab_type": "code",
        "colab": {}
      },
      "source": [
        "X = np.array(X)\n",
        "Y = np.array(Y)"
      ],
      "execution_count": 0,
      "outputs": []
    },
    {
      "cell_type": "code",
      "metadata": {
        "id": "eAMn2MYvzBTr",
        "colab_type": "code",
        "colab": {}
      },
      "source": [
        "parameters = fit(X, Y, theta)"
      ],
      "execution_count": 0,
      "outputs": []
    },
    {
      "cell_type": "code",
      "metadata": {
        "id": "Yp2d0JkBzIr9",
        "colab_type": "code",
        "outputId": "0c733e71-594d-45fa-d544-cb4e281afce0",
        "colab": {
          "base_uri": "https://localhost:8080/",
          "height": 34
        }
      },
      "source": [
        "parameters"
      ],
      "execution_count": 0,
      "outputs": [
        {
          "output_type": "execute_result",
          "data": {
            "text/plain": [
              "array([ 0.24187394, -1.01110043,  1.00582297])"
            ]
          },
          "metadata": {
            "tags": []
          },
          "execution_count": 114
        }
      ]
    },
    {
      "cell_type": "code",
      "metadata": {
        "id": "6Ipn_tbqzW8A",
        "colab_type": "code",
        "outputId": "34336396-5b22-47ef-f7d2-019a899f9d64",
        "colab": {
          "base_uri": "https://localhost:8080/",
          "height": 283
        }
      },
      "source": [
        "x_values = [np.min(X[:, 1] - 5), np.max(X[:, 2] + 5)]\n",
        "y_values = - (parameters[0] + np.dot(parameters[1], x_values)) / parameters[2]\n",
        "\n",
        "plt.plot(x_values, y_values, label='Decision Boundary')\n",
        "plt.xlabel(var1)\n",
        "plt.ylabel(var2)\n",
        "\n",
        "plt.scatter(X0.loc[:, var1], X0.loc[:, var2])\n",
        "plt.scatter(X1.loc[:, var1], X1.loc[:, var2])\n",
        "plt.legend(['больные', 'здоровые'])\n",
        "#plt.scatter(x_values, admitted.iloc[:, 1], s=10, label='Admitted')\n",
        "#plt.scatter(not_admitted.iloc[:, 0], not_admitted.iloc[:, 1], s=10, label='Not Admitted')\n",
        "\n",
        "plt.show()"
      ],
      "execution_count": 116,
      "outputs": [
        {
          "output_type": "display_data",
          "data": {
            "image/png": "[encoded data removed]",
            "text/plain": [
              "<Figure size 432x288 with 1 Axes>"
            ]
          },
          "metadata": {
            "tags": []
          }
        }
      ]
    },
    {
      "cell_type": "markdown",
      "metadata": {
        "id": "zgkDcGtA0j3_",
        "colab_type": "text"
      },
      "source": [
        "### Нахождение уравнения плоскости по точкам, через которые она проходит.\n",
        "Уравнение плоскости в 3-х мерном пространстве задаётся уравнением:\n",
        "\\begin{matrix}\n",
        "z = ax + by + c & (1)\n",
        "\\end{matrix}\n",
        "Уравнение плоскости однозначно задаётся 3 точками через которые она проходит.\n",
        "\n",
        "Таким образом легко понять, что если мы знаем координаты точек, через которые проходит плоскость, то в уравнении (1) у вас 3 переменных: a, b, c. А значения x, y, z нам известны для 3 точек.\n",
        "\n",
        "Если плоскость проходит через точки (1;-6;1), (0;-3;2) и (-3;0;-1), то мы легко можем найти коэффициенты, подставив значения соответсвующих координат для всех 3 точек в уравнение (1) и получив систему из 3 уравнений.\n",
        "\n",
        "Для точки x = 1, y = -6, z = 1:\n",
        "\\begin{matrix}\n",
        "a\\cdot 1 + b\\cdot (-6) + c = 1 & (2)\n",
        "\\end{matrix}\n",
        "\n",
        "Для точки x = 0, y = -3, z = 2:\n",
        "\\begin{matrix}\n",
        "a\\cdot 0 + b\\cdot (-3) + c = 2 &(3)\n",
        "\\end{matrix}\n",
        "\n",
        "Для точки x = -3, y = 0, z = -1:\n",
        "\\begin{matrix}\n",
        "a\\cdot (-3) + b\\cdot 0 + c = -1 &(4)\n",
        "\\end{matrix}\n",
        "\n",
        "На основании системы уравнений (2), (3), (4) можно записать матрицу коэффициентов перед неизвестными (левая часть матрицы):\n",
        "\n",
        "\\begin{pmatrix}\n",
        "1& -6 & 1\n",
        "\\\\ \n",
        "0 & -3 & 1\n",
        "\\\\ \n",
        "-3 & 0 & 1\n",
        "\\end{pmatrix}\n",
        "\n",
        "И вектор свободных членов (правая часть):\n",
        "\\begin{pmatrix}\n",
        "1\n",
        "\\\\ \n",
        "2\n",
        "\\\\\n",
        "-1\n",
        "\\end{pmatrix}"
      ]
    },
    {
      "cell_type": "code",
      "metadata": {
        "id": "BlLvdxRu0qT6",
        "colab_type": "code",
        "colab": {
          "base_uri": "https://localhost:8080/",
          "height": 34
        },
        "outputId": "f7ddea31-a612-43a5-c8a2-49b131d02d7f"
      },
      "source": [
        "import numpy # импортируем библиотеку \n",
        "\n",
        "M5 = numpy.array([[1., -6., 1.], [0., -3., 1], [-3, 0, 1]]) # Матрица (левая часть системы)\n",
        "v5 = numpy.array([1., 2., -1.]) # Вектор (правая часть системы)\n",
        "\n",
        "numpy.linalg.solve(M5, v5)\n"
      ],
      "execution_count": 117,
      "outputs": [
        {
          "output_type": "execute_result",
          "data": {
            "text/plain": [
              "array([2., 1., 5.])"
            ]
          },
          "metadata": {
            "tags": []
          },
          "execution_count": 117
        }
      ]
    },
    {
      "cell_type": "markdown",
      "metadata": {
        "id": "kdfEVq3f0tfK",
        "colab_type": "text"
      },
      "source": [
        "**Ответ: уравнение искомой плоскости в пространстве задаётся уравнением $z = 2x + y + 5$**"
      ]
    }
  ]
}
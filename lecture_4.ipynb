{
  "nbformat": 4,
  "nbformat_minor": 0,
  "metadata": {
    "colab": {
      "name": "lecture_4.ipynb",
      "version": "0.3.2",
      "provenance": [],
      "toc_visible": true,
      "include_colab_link": true
    },
    "kernelspec": {
      "name": "python3",
      "display_name": "Python 3"
    }
  },
  "cells": [
    {
      "cell_type": "markdown",
      "metadata": {
        "id": "view-in-github",
        "colab_type": "text"
      },
      "source": [
        "<a href=\"https://colab.research.google.com/github/yustinaivanova/math_netology/blob/master/lecture_4.ipynb\" target=\"_parent\"><img src=\"https://colab.research.google.com/assets/colab-badge.svg\" alt=\"Open In Colab\"/></a>"
      ]
    },
    {
      "cell_type": "markdown",
      "metadata": {
        "id": "da88zG2ZGb9Q",
        "colab_type": "text"
      },
      "source": [
        "# Математика для Data Science. Нетология. Лекция 4."
      ]
    },
    {
      "cell_type": "code",
      "metadata": {
        "id": "kurCEQJz0oFc",
        "colab_type": "code",
        "colab": {}
      },
      "source": [
        "import numpy as np\n",
        "import matplotlib.pyplot as plt\n",
        "import pandas as pd"
      ],
      "execution_count": 0,
      "outputs": []
    },
    {
      "cell_type": "markdown",
      "metadata": {
        "id": "inR6VlmZJqOw",
        "colab_type": "text"
      },
      "source": [
        "# Методы математической оптимизации"
      ]
    },
    {
      "cell_type": "markdown",
      "metadata": {
        "id": "6_EU4ZBPtasY",
        "colab_type": "text"
      },
      "source": [
        "Имеется задача классификации. Нужно определить, к какому классу относится тот или иной элемент. Если используется двухмерное пространство, то мы ищем прямую, которая будет отделять два класса максимально равномерно. "
      ]
    },
    {
      "cell_type": "markdown",
      "metadata": {
        "id": "_654WZo2u5j_",
        "colab_type": "text"
      },
      "source": [
        "Загрузим датасет для классификации: heart desease (https://www.kaggle.com/bgr2089/heart-analysis).\n",
        "\n",
        "*  age\n",
        "*  sex\n",
        "*  cp chest pain type (4 values)\n",
        "*  trestbps resting blood pressure\n",
        "*  chol serum cholestoral in mg/dl\n",
        "*  fbs fasting blood sugar > 120 mg/dl\n",
        "*  restecg resting electrocardiographic results (values 0,1,2)\n",
        "*  thalach maximum heart rate achieved\n",
        "*  exang exercise induced angina\n",
        "*  oldpeak = ST depression induced by exercise relative to rest. A test that indicates a high probability of coronary artery disease is one in which there is substantial ST depression at low work rate associated with   typical angina-like pain and a drop in blood pressure. Deeper and more widespread ST depression generally indicates more severe or extensive disease.\n",
        "*  the slope of the peak exercise ST segment\n",
        "*  ca number of major vessels (0-3) colored by flourosopy\n",
        "*  thal: 3 = normal; 6 = fixed defect; 7 = reversable defect\n",
        "*  target - ill or not\n",
        "\n",
        "Каждый человек в датасете имеет сердечную болезнь в диапазоне от 0 (есть болезнь) до 4 (нет болезни). Таким образом, данный датасет - типичная проблема классификации, где всего 5 классов, включая класс 0."
      ]
    },
    {
      "cell_type": "code",
      "metadata": {
        "id": "r3io8x6kuZyM",
        "colab_type": "code",
        "colab": {
          "base_uri": "https://localhost:8080/",
          "height": 204
        },
        "outputId": "74fc7a9c-c928-4935-8580-e1e24510249c"
      },
      "source": [
        "url=\"http://yustiks.ru/dataset/heart.csv\"\n",
        "data=pd.read_csv(url)\n",
        "data.head()"
      ],
      "execution_count": 73,
      "outputs": [
        {
          "output_type": "execute_result",
          "data": {
            "text/html": [
              "<div>\n",
              "<style scoped>\n",
              "    .dataframe tbody tr th:only-of-type {\n",
              "        vertical-align: middle;\n",
              "    }\n",
              "\n",
              "    .dataframe tbody tr th {\n",
              "        vertical-align: top;\n",
              "    }\n",
              "\n",
              "    .dataframe thead th {\n",
              "        text-align: right;\n",
              "    }\n",
              "</style>\n",
              "<table border=\"1\" class=\"dataframe\">\n",
              "  <thead>\n",
              "    <tr style=\"text-align: right;\">\n",
              "      <th></th>\n",
              "      <th>age</th>\n",
              "      <th>sex</th>\n",
              "      <th>cp</th>\n",
              "      <th>trestbps</th>\n",
              "      <th>chol</th>\n",
              "      <th>fbs</th>\n",
              "      <th>restecg</th>\n",
              "      <th>thalach</th>\n",
              "      <th>exang</th>\n",
              "      <th>oldpeak</th>\n",
              "      <th>slope</th>\n",
              "      <th>ca</th>\n",
              "      <th>thal</th>\n",
              "      <th>target</th>\n",
              "    </tr>\n",
              "  </thead>\n",
              "  <tbody>\n",
              "    <tr>\n",
              "      <th>0</th>\n",
              "      <td>63</td>\n",
              "      <td>1</td>\n",
              "      <td>3</td>\n",
              "      <td>145</td>\n",
              "      <td>233</td>\n",
              "      <td>1</td>\n",
              "      <td>0</td>\n",
              "      <td>150</td>\n",
              "      <td>0</td>\n",
              "      <td>2.3</td>\n",
              "      <td>0</td>\n",
              "      <td>0</td>\n",
              "      <td>1</td>\n",
              "      <td>1</td>\n",
              "    </tr>\n",
              "    <tr>\n",
              "      <th>1</th>\n",
              "      <td>37</td>\n",
              "      <td>1</td>\n",
              "      <td>2</td>\n",
              "      <td>130</td>\n",
              "      <td>250</td>\n",
              "      <td>0</td>\n",
              "      <td>1</td>\n",
              "      <td>187</td>\n",
              "      <td>0</td>\n",
              "      <td>3.5</td>\n",
              "      <td>0</td>\n",
              "      <td>0</td>\n",
              "      <td>2</td>\n",
              "      <td>1</td>\n",
              "    </tr>\n",
              "    <tr>\n",
              "      <th>2</th>\n",
              "      <td>41</td>\n",
              "      <td>0</td>\n",
              "      <td>1</td>\n",
              "      <td>130</td>\n",
              "      <td>204</td>\n",
              "      <td>0</td>\n",
              "      <td>0</td>\n",
              "      <td>172</td>\n",
              "      <td>0</td>\n",
              "      <td>1.4</td>\n",
              "      <td>2</td>\n",
              "      <td>0</td>\n",
              "      <td>2</td>\n",
              "      <td>1</td>\n",
              "    </tr>\n",
              "    <tr>\n",
              "      <th>3</th>\n",
              "      <td>56</td>\n",
              "      <td>1</td>\n",
              "      <td>1</td>\n",
              "      <td>120</td>\n",
              "      <td>236</td>\n",
              "      <td>0</td>\n",
              "      <td>1</td>\n",
              "      <td>178</td>\n",
              "      <td>0</td>\n",
              "      <td>0.8</td>\n",
              "      <td>2</td>\n",
              "      <td>0</td>\n",
              "      <td>2</td>\n",
              "      <td>1</td>\n",
              "    </tr>\n",
              "    <tr>\n",
              "      <th>4</th>\n",
              "      <td>57</td>\n",
              "      <td>0</td>\n",
              "      <td>0</td>\n",
              "      <td>120</td>\n",
              "      <td>354</td>\n",
              "      <td>0</td>\n",
              "      <td>1</td>\n",
              "      <td>163</td>\n",
              "      <td>1</td>\n",
              "      <td>0.6</td>\n",
              "      <td>2</td>\n",
              "      <td>0</td>\n",
              "      <td>2</td>\n",
              "      <td>1</td>\n",
              "    </tr>\n",
              "  </tbody>\n",
              "</table>\n",
              "</div>"
            ],
            "text/plain": [
              "   age  sex  cp  trestbps  chol  fbs  ...  exang  oldpeak  slope  ca  thal  target\n",
              "0   63    1   3       145   233    1  ...      0      2.3      0   0     1       1\n",
              "1   37    1   2       130   250    0  ...      0      3.5      0   0     2       1\n",
              "2   41    0   1       130   204    0  ...      0      1.4      2   0     2       1\n",
              "3   56    1   1       120   236    0  ...      0      0.8      2   0     2       1\n",
              "4   57    0   0       120   354    0  ...      1      0.6      2   0     2       1\n",
              "\n",
              "[5 rows x 14 columns]"
            ]
          },
          "metadata": {
            "tags": []
          },
          "execution_count": 73
        }
      ]
    },
    {
      "cell_type": "markdown",
      "metadata": {
        "id": "hIn8caALv4S2",
        "colab_type": "text"
      },
      "source": [
        "Возьмём двухмерное пространство. Допустим, мы хотим на основе имеющихся атрибутов (cp - тип боли в груди и chol - уровень холестерола) определять болен человек или здоров. Первое - мы хотим научиться определять класс 0 (больных). Наша задача - найти прямую, которая будет отделять класс 0 от всех остальных в пространстве. "
      ]
    },
    {
      "cell_type": "code",
      "metadata": {
        "id": "o9QXtSsw24Q-",
        "colab_type": "code",
        "colab": {}
      },
      "source": [
        "var1 = 'oldpeak'\n",
        "var2 = 'cp'"
      ],
      "execution_count": 0,
      "outputs": []
    },
    {
      "cell_type": "code",
      "metadata": {
        "id": "-mlfXFI7wqSw",
        "colab_type": "code",
        "colab": {}
      },
      "source": [
        "X = data.loc[:, [var1, var2]]\n",
        "Y = data.loc[:, ['target']]"
      ],
      "execution_count": 0,
      "outputs": []
    },
    {
      "cell_type": "markdown",
      "metadata": {
        "id": "QCQHCdISyU_K",
        "colab_type": "text"
      },
      "source": [
        "Итак, у нас есть вектора X, где каждый вектор - это атрибуты человека (cp и chol).\n",
        "Мы хотим находить в датасете только больных людей.\n",
        "Отобразим в пространстве больных людей и всех остальных:"
      ]
    },
    {
      "cell_type": "code",
      "metadata": {
        "id": "4V1pGKHBzX1Z",
        "colab_type": "code",
        "colab": {}
      },
      "source": [
        "list_indexes_class0 = Y[Y['target']==0].index.values.tolist()"
      ],
      "execution_count": 0,
      "outputs": []
    },
    {
      "cell_type": "code",
      "metadata": {
        "id": "K_xoEvnL0-x2",
        "colab_type": "code",
        "colab": {}
      },
      "source": [
        "list_indexes_class1 = Y[Y['target']==1].index.values.tolist()"
      ],
      "execution_count": 0,
      "outputs": []
    },
    {
      "cell_type": "code",
      "metadata": {
        "id": "kWktIsof1Grw",
        "colab_type": "code",
        "colab": {}
      },
      "source": [
        "X0 = X.loc[list_indexes_class0, :]\n",
        "X1 = X.loc[list_indexes_class1, :]"
      ],
      "execution_count": 0,
      "outputs": []
    },
    {
      "cell_type": "markdown",
      "metadata": {
        "id": "uCnxlqyt1dMA",
        "colab_type": "text"
      },
      "source": [
        "Отобразим 2 класса в пространстве"
      ]
    },
    {
      "cell_type": "code",
      "metadata": {
        "id": "0qDzRIj_1Yzf",
        "colab_type": "code",
        "colab": {
          "base_uri": "https://localhost:8080/",
          "height": 283
        },
        "outputId": "c9371058-6f57-4185-ab47-09947a4089ab"
      },
      "source": [
        "plt.xlabel(var1)\n",
        "plt.ylabel(var2)\n",
        "\n",
        "plt.scatter(X0.loc[:, var1], X0.loc[:, var2])\n",
        "plt.scatter(X1.loc[:, var1], X1.loc[:, var2])\n",
        "plt.legend(['больные', 'здоровые'])\n",
        "plt.show()"
      ],
      "execution_count": 96,
      "outputs": [
        {
          "output_type": "display_data",
          "data": {
            "image/png": "[encoded data removed]",
            "text/plain": [
              "<Figure size 432x288 with 1 Axes>"
            ]
          },
          "metadata": {
            "tags": []
          }
        }
      ]
    },
    {
      "cell_type": "markdown",
      "metadata": {
        "id": "wZi6I1VX36Zv",
        "colab_type": "text"
      },
      "source": [
        "Задача классификатора - подобрать такую прямую, которая будет отделять один класс от другого максимально далеко в пространстве."
      ]
    },
    {
      "cell_type": "markdown",
      "metadata": {
        "id": "Xm6VAjC86oig",
        "colab_type": "text"
      },
      "source": [
        "В данном случае (если посмотреть на данные), можно провести прямую приблизительно так, чтобы отделять один класс от другого:\n",
        "![alt text](https://sun9-55.userapi.com/c855232/v855232121/e05f8/P2gG1zvM3wY.jpg)"
      ]
    },
    {
      "cell_type": "markdown",
      "metadata": {
        "id": "Vl0ptWRC7mT_",
        "colab_type": "text"
      },
      "source": [
        "Я определила прямую графически, задача логистической регрессии - найти данную прямую математически."
      ]
    },
    {
      "cell_type": "code",
      "metadata": {
        "id": "KBjL5A1K7Uxf",
        "colab_type": "code",
        "colab": {}
      },
      "source": [
        ""
      ],
      "execution_count": 0,
      "outputs": []
    }
  ]
}
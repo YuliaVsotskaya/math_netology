{
  "nbformat": 4,
  "nbformat_minor": 0,
  "metadata": {
    "colab": {
      "name": "Untitled0.ipynb",
      "version": "0.3.2",
      "provenance": [],
      "include_colab_link": true
    },
    "kernelspec": {
      "name": "python3",
      "display_name": "Python 3"
    }
  },
  "cells": [
    {
      "cell_type": "markdown",
      "metadata": {
        "id": "view-in-github",
        "colab_type": "text"
      },
      "source": [
        "<a href=\"https://colab.research.google.com/github/yustinaivanova/math_netology/blob/master/dz_3.ipynb\" target=\"_parent\"><img src=\"https://colab.research.google.com/assets/colab-badge.svg\" alt=\"Open In Colab\"/></a>"
      ]
    },
    {
      "cell_type": "markdown",
      "metadata": {
        "id": "TDhwJY1ZsPFM",
        "colab_type": "text"
      },
      "source": [
        "# Домашнее задание 3. Математика для data sciense. Нетология."
      ]
    },
    {
      "cell_type": "markdown",
      "metadata": {
        "id": "Q65AeQldsW75",
        "colab_type": "text"
      },
      "source": [
        "Решить систему линейных уравнений:\n",
        "\n",
        "![alt text](https://italiandirectory.eu/wp-content/ql-cache/quicklatex.com-34a5602e13176cbddcfd35cca34478fe_l3.svg)"
      ]
    },
    {
      "cell_type": "code",
      "metadata": {
        "id": "XuEpnahNupUC",
        "colab_type": "code",
        "colab": {}
      },
      "source": [
        ""
      ],
      "execution_count": 0,
      "outputs": []
    },
    {
      "cell_type": "markdown",
      "metadata": {
        "id": "HZY0uC9Ns2sn",
        "colab_type": "text"
      },
      "source": [
        "Анна выбирает тарифный план для телефонной связи. Первый план, T1, стоит 20 долларов в месяц, каждый звонок стоит 25 центов в минуту. Второй тарифный план, T2, стоит 40долларов в месяц, но звонки стоят 8 центов в минуту. Какой план ей выбрать, если Анна звонит не более 117 минут в месяц?\n",
        "\n",
        "Составим задачу в системе линейных уравнений. \n",
        "\n",
        "Количество минут - независимая переменная, будет нашим x. Стоимость тарифа - зависимая величина, будет нашим y. \n",
        "\n",
        "Написать систему уравнений для данной задачи, построить график, найти точку пересечения прямых. \n",
        "Сделать вывод о том, какой тариф использовать лучше для Анны."
      ]
    },
    {
      "cell_type": "code",
      "metadata": {
        "id": "55fa5GfWu_xG",
        "colab_type": "code",
        "colab": {}
      },
      "source": [
        ""
      ],
      "execution_count": 0,
      "outputs": []
    },
    {
      "cell_type": "markdown",
      "metadata": {
        "id": "zJOYTtyvu_8U",
        "colab_type": "text"
      },
      "source": [
        ""
      ]
    }
  ]
}
{
  "nbformat": 4,
  "nbformat_minor": 0,
  "metadata": {
    "colab": {
      "name": "Untitled2.ipynb",
      "version": "0.3.2",
      "provenance": [],
      "include_colab_link": true
    },
    "kernelspec": {
      "name": "python3",
      "display_name": "Python 3"
    }
  },
  "cells": [
    {
      "cell_type": "markdown",
      "metadata": {
        "id": "view-in-github",
        "colab_type": "text"
      },
      "source": [
        "<a href=\"https://colab.research.google.com/github/yustinaivanova/math_netology/blob/master/dz_1.ipynb\" target=\"_parent\"><img src=\"https://colab.research.google.com/assets/colab-badge.svg\" alt=\"Open In Colab\"/></a>"
      ]
    },
    {
      "cell_type": "markdown",
      "metadata": {
        "id": "hTHl3kyDWIGO",
        "colab_type": "text"
      },
      "source": [
        "# Основы математики для data science.\n",
        "# Домашнее задание 1."
      ]
    },
    {
      "cell_type": "markdown",
      "metadata": {
        "id": "4QwS5m7CWXY3",
        "colab_type": "text"
      },
      "source": [
        "**Полиномиальные функции.**"
      ]
    },
    {
      "cell_type": "markdown",
      "metadata": {
        "id": "thQjcSL7WbIY",
        "colab_type": "text"
      },
      "source": [
        "**Задание 1**. Найти из следующих функций те, которые являются полиномиальной функцией."
      ]
    },
    {
      "cell_type": "markdown",
      "metadata": {
        "id": "GbDQjj-pWjqm",
        "colab_type": "text"
      },
      "source": [
        "*  $$f(x)=\\frac{1}{2}x^{6}-1\\frac{5}{6}x+\\frac{1}{3}$$\n",
        "*  $$f(x)=\\frac{3x^{6}-11x+2}{6}$$\n",
        "*  $$f(x)=\\frac{3x^{6}-11x+2}{6x}$$\n",
        "*  $$f(x)=x^{5}-3x^{2}+7x^{-2}$$\n",
        "*  $$f(x)=(5x^{2}-2)^3-\\frac{1}{2}x^{3}$$\n",
        "*  $$f(x)=(1+\\sqrt{x})^{3}-5(1+\\sqrt{x})$$\n",
        "*  $$f(x)=\\pi $$\n",
        "\n"
      ]
    },
    {
      "cell_type": "markdown",
      "metadata": {
        "id": "2SOZDLZQW9vK",
        "colab_type": "text"
      },
      "source": [
        "**Задание 2**. Для следующего полинома $$(2x+1)^{2}(x-1)-x(4x^{2}-1)-x(4x^{2}-1)=ax^3+bx^2+cx+d$$ найти коэффициенты для a, b, c, d."
      ]
    },
    {
      "cell_type": "markdown",
      "metadata": {
        "id": "hETFA0bzXYdw",
        "colab_type": "text"
      },
      "source": [
        "Чему равна степень полинома?"
      ]
    },
    {
      "cell_type": "markdown",
      "metadata": {
        "id": "YnGld7mvZNUB",
        "colab_type": "text"
      },
      "source": [
        "**Задание 3**.\n",
        "Для заданных функций найти подходящий график (не все функции имеют график):\n",
        "$\\frac{3}{4}x-1$,  $\\frac{3}{4}x+2$, $2-2x$, $2+2x$, $\\frac{1}{4}(x+1)^{2}-2 $, $\\frac{1}{4}(x-1)^2-2$, $(x-1)(x-3)$, $(x+1)(x+3)$, $2-x^2$, $2-\\frac{1}{4}x^2$"
      ]
    },
    {
      "cell_type": "markdown",
      "metadata": {
        "id": "8TCnR4urZX_A",
        "colab_type": "text"
      },
      "source": [
        "![alt text](https://pp.userapi.com/c855532/v855532908/aadd4/uWjIZGDfw0s.jpg)"
      ]
    },
    {
      "cell_type": "markdown",
      "metadata": {
        "id": "v4PsJSrlbGni",
        "colab_type": "text"
      },
      "source": [
        "**Задание 4.** Найти минимальную степень следующего полинома:\n",
        "\n",
        "![alt text](https://pp.userapi.com/c855532/v855532908/aadcd/PZdPYTQT02A.jpg)"
      ]
    },
    {
      "cell_type": "code",
      "metadata": {
        "id": "wyWYYrGnWHVk",
        "colab_type": "code",
        "colab": {}
      },
      "source": [
        ""
      ],
      "execution_count": 0,
      "outputs": []
    }
  ]
}
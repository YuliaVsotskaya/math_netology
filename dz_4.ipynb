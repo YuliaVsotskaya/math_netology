{
  "nbformat": 4,
  "nbformat_minor": 0,
  "metadata": {
    "colab": {
      "name": "dz_3.ipynb",
      "version": "0.3.2",
      "provenance": [],
      "include_colab_link": true
    },
    "kernelspec": {
      "name": "python3",
      "display_name": "Python 3"
    }
  },
  "cells": [
    {
      "cell_type": "markdown",
      "metadata": {
        "id": "view-in-github",
        "colab_type": "text"
      },
      "source": [
        "<a href=\"https://colab.research.google.com/github/yustinaivanova/math_netology/blob/master/dz_4.ipynb\" target=\"_parent\"><img src=\"https://colab.research.google.com/assets/colab-badge.svg\" alt=\"Open In Colab\"/></a>"
      ]
    },
    {
      "cell_type": "markdown",
      "metadata": {
        "id": "TDhwJY1ZsPFM",
        "colab_type": "text"
      },
      "source": [
        "# Домашнее задание 4. Математика для data sciense. Нетология."
      ]
    },
    {
      "cell_type": "markdown",
      "metadata": {
        "id": "cT8mpxHgCpQV",
        "colab_type": "text"
      },
      "source": [
        "Загрузить датасет из лекции 4, выбрать вектор в двухмерном пространстве на основе данного датасета и построить логистическую регрессию.\n"
      ]
    },
    {
      "cell_type": "code",
      "metadata": {
        "id": "K3-N84RmDQWV",
        "colab_type": "code",
        "colab": {}
      },
      "source": [
        ""
      ],
      "execution_count": 0,
      "outputs": []
    },
    {
      "cell_type": "markdown",
      "metadata": {
        "id": "bXM_Eo5BDQzn",
        "colab_type": "text"
      },
      "source": [
        "**Задание повышенного уровня**"
      ]
    },
    {
      "cell_type": "markdown",
      "metadata": {
        "id": "Ps40bLwqEkSq",
        "colab_type": "text"
      },
      "source": [
        "Дана параметрическая модель человека. \n",
        "\n",
        "*   Посчитать угол, который образуется от вектора позвоночника до вектора горизонтали.\n",
        "*   Рассчитать рост человека.\n",
        "\n"
      ]
    },
    {
      "cell_type": "markdown",
      "metadata": {
        "id": "Ys3zYfqfExi9",
        "colab_type": "text"
      },
      "source": [
        "![alt text](https://github.com/yustiks/3D_model_test_task/blob/master/snapshot01.png?raw=true)"
      ]
    },
    {
      "cell_type": "markdown",
      "metadata": {
        "id": "zsfTQJRJFpDV",
        "colab_type": "text"
      },
      "source": [
        "Параметрическую модель нужно попросить у меня (скину на почту)"
      ]
    }
  ]
}
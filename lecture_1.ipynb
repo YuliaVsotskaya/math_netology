{
  "nbformat": 4,
  "nbformat_minor": 0,
  "metadata": {
    "colab": {
      "name": "Untitled",
      "version": "0.3.2",
      "provenance": [],
      "toc_visible": true,
      "include_colab_link": true
    },
    "kernelspec": {
      "name": "python3",
      "display_name": "Python 3"
    }
  },
  "cells": [
    {
      "cell_type": "markdown",
      "metadata": {
        "id": "view-in-github",
        "colab_type": "text"
      },
      "source": [
        "<a href=\"https://colab.research.google.com/github/yustinaivanova/math_netology/blob/master/lecture_1.ipynb\" target=\"_parent\"><img src=\"https://colab.research.google.com/assets/colab-badge.svg\" alt=\"Open In Colab\"/></a>"
      ]
    },
    {
      "cell_type": "code",
      "metadata": {
        "id": "ffBf5cS-4L7Z",
        "colab_type": "code",
        "colab": {}
      },
      "source": [
        "import numpy as np\n",
        "import matplotlib.pyplot as plt\n",
        "import pandas as pd\n",
        "%matplotlib inline\n"
      ],
      "execution_count": 0,
      "outputs": []
    },
    {
      "cell_type": "markdown",
      "metadata": {
        "id": "n-H_wCGwiF0-",
        "colab_type": "text"
      },
      "source": [
        "# Основы математики для data science"
      ]
    },
    {
      "cell_type": "markdown",
      "metadata": {
        "id": "sZivAPVGiMFM",
        "colab_type": "text"
      },
      "source": [
        "**Функция (отражение, оператор, преобразование)** - в математике соответствие между элементами двух множеств, установленное по такому правилу, что каждому элементу одного множества ставится в соответствие некоторый элемент из другого множества."
      ]
    },
    {
      "cell_type": "markdown",
      "metadata": {
        "id": "jhSmadmWis5h",
        "colab_type": "text"
      },
      "source": [
        "Функция может быть представлена несколькими способами:\n",
        "\n",
        "\n",
        "*   математически (с помощью формулы)\n",
        "*   графически (график)\n",
        "*   таблично (с помощью таблицы)\n",
        "*   программно (python код)\n",
        "\n"
      ]
    },
    {
      "cell_type": "markdown",
      "metadata": {
        "id": "f4BrYrGzuY31",
        "colab_type": "text"
      },
      "source": [
        "# Пример представления функции для датасета о фильмах"
      ]
    },
    {
      "cell_type": "markdown",
      "metadata": {
        "id": "B5LHDBaAuf_y",
        "colab_type": "text"
      },
      "source": [
        "Напишем код для функции, которая для каждого актера и актрисы из имеющегося множества будет находить фильмы, в которых они играли. Для этого будем использовать Set представление в python."
      ]
    },
    {
      "cell_type": "code",
      "metadata": {
        "id": "IiFTOp-Curqg",
        "colab_type": "code",
        "colab": {}
      },
      "source": [
        "actors = set(['Сергей Бодров', 'Сергей Безруков', 'Чулпан Хаматова', 'Анастасия Задорожная'])"
      ],
      "execution_count": 0,
      "outputs": []
    },
    {
      "cell_type": "markdown",
      "metadata": {
        "id": "QIOo0dbGvStu",
        "colab_type": "text"
      },
      "source": [
        "Для написания функции отображения актеров в подпространство фильмов будем использовать словари (dictionary) в python"
      ]
    },
    {
      "cell_type": "code",
      "metadata": {
        "id": "OXbiZWmpvmCB",
        "colab_type": "code",
        "colab": {}
      },
      "source": [
        "dict_actors = dict()\n",
        "dict_actors['Сергей Бодров'] = 'Брат'\n",
        "dict_actors['Сергей Безруков'] = 'Бригада'\n",
        "dict_actors['Чулпан Хаматова'] = 'Дети Арбата'\n",
        "dict_actors['Анастасия Задорожная'] = 'Плохая соседка'"
      ],
      "execution_count": 0,
      "outputs": []
    },
    {
      "cell_type": "markdown",
      "metadata": {
        "id": "G58IXRicwNL0",
        "colab_type": "text"
      },
      "source": [
        "Теперь для каждого актера в словаре dict_actors хранится название фильма, в котором он/она участвовали.\n",
        "\n",
        "Можно проверить, что все элементы множества actors отображаются в подпространство фильмов правильно."
      ]
    },
    {
      "cell_type": "code",
      "metadata": {
        "id": "KgBZ4nLewU94",
        "colab_type": "code",
        "outputId": "92dadfdc-c406-42c3-8a73-685913db4189",
        "colab": {
          "base_uri": "https://localhost:8080/",
          "height": 85
        }
      },
      "source": [
        "for el in actors:\n",
        "  print(el + ': ' + dict_actors[el])"
      ],
      "execution_count": 0,
      "outputs": [
        {
          "output_type": "stream",
          "text": [
            "Анастасия Задорожная: Плохая соседка\n",
            "Сергей Безруков: Бригада\n",
            "Сергей Бодров: Брат\n",
            "Чулпан Хаматова: Дети Арбата\n"
          ],
          "name": "stdout"
        }
      ]
    },
    {
      "cell_type": "markdown",
      "metadata": {
        "id": "uaqEJgsvwucL",
        "colab_type": "text"
      },
      "source": [
        "В примере выше каждый актёр встречается только в одном фильме. Совсем иначе придется продумывать структуру данных, если актёры встречается в более чем одном фильме. В этом случае словарь необходимо заменить на таблицу словарей (хэш-таблицу)."
      ]
    },
    {
      "cell_type": "code",
      "metadata": {
        "id": "uAg3u2CCxNmK",
        "colab_type": "code",
        "colab": {}
      },
      "source": [
        "dict_actors_2 = dict()\n",
        "dict_actors_2['Сергей Бодров'] = ['Брат', 'Брат2']\n",
        "dict_actors_2['Сергей Безруков'] = ['Бригада', 'Есенин','Кинопоэзия','Таинственная страсть']\n",
        "dict_actors_2['Чулпан Хаматова'] = ['Дети Арбата', 'Гуд бай, Ленин!','Кинопоэзия', 'Таинственная страсть']\n",
        "dict_actors_2['Анастасия Задорожная'] = ['Плохая соседка']"
      ],
      "execution_count": 0,
      "outputs": []
    },
    {
      "cell_type": "markdown",
      "metadata": {
        "id": "x_J4QCFxzMgY",
        "colab_type": "text"
      },
      "source": [
        "Напечатаем фильмы, в которых участвовали актеры:"
      ]
    },
    {
      "cell_type": "code",
      "metadata": {
        "id": "yBRQquATydMJ",
        "colab_type": "code",
        "outputId": "07fc801f-5fbb-48fc-aff0-227ab001ceab",
        "colab": {
          "base_uri": "https://localhost:8080/",
          "height": 85
        }
      },
      "source": [
        "for el in actors:\n",
        "  films = ''\n",
        "  for film in dict_actors_2[el]:\n",
        "    films += film + ', '\n",
        "  print(el + ': '+ films)"
      ],
      "execution_count": 0,
      "outputs": [
        {
          "output_type": "stream",
          "text": [
            "Анастасия Задорожная: Плохая соседка, \n",
            "Сергей Безруков: Бригада, Есенин, Кинопоэзия, Таинственная страсть, \n",
            "Сергей Бодров: Брат, Брат2, \n",
            "Чулпан Хаматова: Дети Арбата, Гуд бай, Ленин!, Кинопоэзия, Таинственная страсть, \n"
          ],
          "name": "stdout"
        }
      ]
    },
    {
      "cell_type": "markdown",
      "metadata": {
        "id": "3wEty8WOzQ4z",
        "colab_type": "text"
      },
      "source": [
        "Если мы хотим проверить, в каких фильмах участвовали Сергей Бодров и Чулпан Хаматова совместно, достаточно проверить пересечение множества фильмов одного актера и другого:"
      ]
    },
    {
      "cell_type": "code",
      "metadata": {
        "id": "XPLqN8brzd8V",
        "colab_type": "code",
        "outputId": "014b3645-902e-46c9-e642-6f99067c7672",
        "colab": {
          "base_uri": "https://localhost:8080/",
          "height": 51
        }
      },
      "source": [
        "for film in dict_actors_2['Чулпан Хаматова']:\n",
        "  if film in dict_actors_2['Сергей Безруков']:\n",
        "    print(film)\n",
        "  "
      ],
      "execution_count": 0,
      "outputs": [
        {
          "output_type": "stream",
          "text": [
            "Кинопоэзия\n",
            "Таинственная страсть\n"
          ],
          "name": "stdout"
        }
      ]
    },
    {
      "cell_type": "markdown",
      "metadata": {
        "id": "33jK6HtJ2PqC",
        "colab_type": "text"
      },
      "source": [
        "Заметьте, в данном случае мы использовали встроенную команду **in**, которая проверяет, имеется ли элемент в списке list. "
      ]
    },
    {
      "cell_type": "markdown",
      "metadata": {
        "id": "mjoSpiMN2mVi",
        "colab_type": "text"
      },
      "source": [
        "# Способы представления функций."
      ]
    },
    {
      "cell_type": "markdown",
      "metadata": {
        "id": "f5iR2aYF3B5b",
        "colab_type": "text"
      },
      "source": [
        "**Программный способ представления.**\n",
        "\n",
        "Дана функция: ![alt text](https://pp.userapi.com/c854520/v854520891/aaadd/f5M6W-fRFjg.jpg). Напишем для неё код."
      ]
    },
    {
      "cell_type": "code",
      "metadata": {
        "id": "gaSr3WsN3FR9",
        "colab_type": "code",
        "colab": {}
      },
      "source": [
        "from math import pow\n",
        "def func(x):\n",
        "  stepen = 1/4*pow(x, 5) - pow(x, 4) + 1/4*pow(x, 3) + 3/2*pow(x, 2) +1\n",
        "  y = 1 - pow(2, stepen)\n",
        "  return y"
      ],
      "execution_count": 0,
      "outputs": []
    },
    {
      "cell_type": "markdown",
      "metadata": {
        "id": "-4u1dtoO6ShC",
        "colab_type": "text"
      },
      "source": [
        "**Графический способ представления функции.**"
      ]
    },
    {
      "cell_type": "markdown",
      "metadata": {
        "id": "eet3Sy743pmn",
        "colab_type": "text"
      },
      "source": [
        "Нарисуем график написанной функции:"
      ]
    },
    {
      "cell_type": "code",
      "metadata": {
        "id": "2DAj41p-3tJi",
        "colab_type": "code",
        "outputId": "ead78c39-d47a-4711-e115-1a1a505b567f",
        "colab": {
          "base_uri": "https://localhost:8080/",
          "height": 295
        }
      },
      "source": [
        "# создаем вектор x\n",
        "x1 = np.linspace(-3.0, 3.0, 100)\n",
        "# на основе вектора x строим значения для вектора y\n",
        "y1 = [func(x1[i]) for i in range(len(x1))]\n",
        "\n",
        "plt.plot(x1, y1)\n",
        "plt.title('График функции')\n",
        "plt.ylabel('y')\n",
        "plt.xlabel('x')\n",
        "\n",
        "plt.show()"
      ],
      "execution_count": 0,
      "outputs": [
        {
          "output_type": "display_data",
          "data": {
            "image/png": "[encoded data removed]",
            "text/plain": [
              "<Figure size 432x288 with 1 Axes>"
            ]
          },
          "metadata": {
            "tags": []
          }
        }
      ]
    },
    {
      "cell_type": "markdown",
      "metadata": {
        "id": "Q_vZhou46b0l",
        "colab_type": "text"
      },
      "source": [
        "**Представление функции ввиде формулы.**"
      ]
    },
    {
      "cell_type": "markdown",
      "metadata": {
        "id": "sE0QpYBTlICN",
        "colab_type": "text"
      },
      "source": [
        "Иногда удобно представить функцию ввиде нескольких формул вместо одной. Например, функция y=abs(x). Если мы хотим записать алгоритм функции, легче всего разделить пространство аргументов на плоскости на 2 отрезка: от $-\\infty$ до 0 включительно и от 0 до $+\\infty $"
      ]
    },
    {
      "cell_type": "markdown",
      "metadata": {
        "id": "7I7cBeQRlF4F",
        "colab_type": "text"
      },
      "source": [
        "![alt text](https://pp.userapi.com/c858028/v858028826/2c07f/SOjKZptkdXU.jpg)"
      ]
    },
    {
      "cell_type": "markdown",
      "metadata": {
        "id": "tkVoVg9R6ly6",
        "colab_type": "text"
      },
      "source": [
        "**Некоторые замечания.**"
      ]
    },
    {
      "cell_type": "markdown",
      "metadata": {
        "id": "zil1HUcIoqYW",
        "colab_type": "text"
      },
      "source": [
        "На графике функции различают точки, не включенные в график, с помощью \"выколотых\" точек (точка (0, 1) на графике). Точку, ключенную в график, показывают увеличенного размера (точка (0, 2) на графике)"
      ]
    },
    {
      "cell_type": "markdown",
      "metadata": {
        "id": "uE0mmE4eooTn",
        "colab_type": "text"
      },
      "source": [
        "![alt text](https://prod-edxapp.edx-cdn.org/assets/courseware/v1/1373e2e5713de274ce4c2ed8bd2697cc/asset-v1:DelftX+Calc001x+2T2019+type@asset+block/1.2_graph_with_jump.png)"
      ]
    },
    {
      "cell_type": "markdown",
      "metadata": {
        "id": "_zO4X1fLpruw",
        "colab_type": "text"
      },
      "source": [
        "Напишем код для задания функции и отрисовки графика функции."
      ]
    },
    {
      "cell_type": "code",
      "metadata": {
        "id": "xZq3xa85vw1Q",
        "colab_type": "code",
        "outputId": "961d383a-7220-40e3-bd4e-4c8f9d606867",
        "colab": {
          "base_uri": "https://localhost:8080/",
          "height": 295
        }
      },
      "source": [
        "\n",
        "x1 = np.linspace(-3.0, 3.0, 100)\n",
        "\n",
        "y1 = [1 for _ in range(len(x1))]\n",
        "y1[len(x1)//2] = 2\n",
        "\n",
        "plt.scatter(x1, y1, marker='o')\n",
        "plt.scatter(0, 1, s=100, marker='o')\n",
        "plt.scatter(0, 1, s=50, marker='o', c='white')\n",
        "plt.title('График функции с включенной и выколотой точкой')\n",
        "plt.ylabel('y')\n",
        "plt.xlabel('x')\n",
        "plt.ylim(0, 3)\n",
        "\n",
        "plt.show()"
      ],
      "execution_count": 0,
      "outputs": [
        {
          "output_type": "display_data",
          "data": {
            "image/png": "[encoded data removed]",
            "text/plain": [
              "<Figure size 432x288 with 1 Axes>"
            ]
          },
          "metadata": {
            "tags": []
          }
        }
      ]
    },
    {
      "cell_type": "markdown",
      "metadata": {
        "id": "MEJQ3DTsQTrz",
        "colab_type": "text"
      },
      "source": [
        "# Полиномиальные функции."
      ]
    },
    {
      "cell_type": "markdown",
      "metadata": {
        "id": "p41NVHbmQnAn",
        "colab_type": "text"
      },
      "source": [
        "Целая рациональная функция (также полиномиальная функция) — числовая функция одного действительного переменного вида:\n",
        "$$f(x) = a_{n}x^{n}+a_{n-1}x^{n-1}+...+a_{2}x^{2}+a_{1}x+a_{0}=\\sum_{i=0}^{n}a_{i}x^{i}$$,\n",
        "где $n\\in \\mathbb{N}, a_{n},a_{n-1},...,a_{2},a_{1},a_{0}\\in \\mathbb{R}, a_{n}\\neq 0$"
      ]
    },
    {
      "cell_type": "markdown",
      "metadata": {
        "id": "EA0c0k0wtxJv",
        "colab_type": "text"
      },
      "source": [
        "**Пример построения полинома: степень = 0.**"
      ]
    },
    {
      "cell_type": "code",
      "metadata": {
        "id": "Zylfchnat2Uv",
        "colab_type": "code",
        "outputId": "5a6f8276-0c33-4ea3-b4b7-1a4aa46931ad",
        "colab": {
          "base_uri": "https://localhost:8080/",
          "height": 295
        }
      },
      "source": [
        "x1 = np.linspace(-3.0, 3.0, 100)\n",
        "y1 = [3 for _ in range(len(x1))]\n",
        "plt.plot(x1, y1, '-o')\n",
        "plt.title('График функции')\n",
        "plt.ylabel('y')\n",
        "plt.xlabel('x')\n",
        "\n",
        "plt.show()"
      ],
      "execution_count": 0,
      "outputs": [
        {
          "output_type": "display_data",
          "data": {
            "image/png": "[encoded data removed]",
            "text/plain": [
              "<Figure size 432x288 with 1 Axes>"
            ]
          },
          "metadata": {
            "tags": []
          }
        }
      ]
    },
    {
      "cell_type": "markdown",
      "metadata": {
        "id": "swK9wSktA_nl",
        "colab_type": "text"
      },
      "source": [
        "**Пример построения полинома степени 2: подбрасывание мяча (слайд 20)**"
      ]
    },
    {
      "cell_type": "code",
      "metadata": {
        "id": "C6Lrf1PtBSvi",
        "colab_type": "code",
        "colab": {}
      },
      "source": [
        "def polynom_2(x):\n",
        "  y = -4.9*x*x + 6.1*x + 1.4\n",
        "  return y"
      ],
      "execution_count": 0,
      "outputs": []
    },
    {
      "cell_type": "code",
      "metadata": {
        "id": "K9yoRIlGBE42",
        "colab_type": "code",
        "outputId": "dbccd634-87cd-4641-9b47-90d5f7510744",
        "colab": {
          "base_uri": "https://localhost:8080/",
          "height": 295
        }
      },
      "source": [
        "x1 = np.linspace(-0.25, 1.5, 100)\n",
        "y1 = [polynom_2(x1[i]) for i in range(len(x1))]\n",
        "plt.plot(x1, y1, '-o')\n",
        "plt.title('График функции полинома степени 2: траектория мяча')\n",
        "plt.ylabel('y')\n",
        "plt.xlabel('x')\n",
        "\n",
        "plt.show()"
      ],
      "execution_count": 0,
      "outputs": [
        {
          "output_type": "display_data",
          "data": {
            "image/png": "[encoded data removed]",
            "text/plain": [
              "<Figure size 432x288 with 1 Axes>"
            ]
          },
          "metadata": {
            "tags": []
          }
        }
      ]
    },
    {
      "cell_type": "markdown",
      "metadata": {
        "id": "GYn8TX2ODMOG",
        "colab_type": "text"
      },
      "source": [
        "**Пример построения полинома степени 2: Golden Gate в Сан-Франсиско (слайд 21)**"
      ]
    },
    {
      "cell_type": "code",
      "metadata": {
        "id": "qUQM9Yv3DK9t",
        "colab_type": "code",
        "colab": {}
      },
      "source": [
        "def polynom_golden_gate(x):\n",
        "  y = 0.00037*x*x - 0.475*x + 230\n",
        "  return y"
      ],
      "execution_count": 0,
      "outputs": []
    },
    {
      "cell_type": "code",
      "metadata": {
        "id": "7rja3-knEYt4",
        "colab_type": "code",
        "outputId": "c88cd475-66e9-4be2-d2dc-7b64ed539d68",
        "colab": {
          "base_uri": "https://localhost:8080/",
          "height": 295
        }
      },
      "source": [
        "x1 = np.linspace(-1000, 2300, 100)\n",
        "y1 = [polynom_golden_gate(x1[i]) for i in range(len(x1))]\n",
        "plt.plot(x1, y1, '-o')\n",
        "plt.title('График функции полинома степени 2: Golden Gate в Сан-Франсиско')\n",
        "plt.ylabel('y')\n",
        "plt.xlabel('x')\n",
        "\n",
        "plt.show()"
      ],
      "execution_count": 0,
      "outputs": [
        {
          "output_type": "display_data",
          "data": {
            "image/png": "[encoded data removed]",
            "text/plain": [
              "<Figure size 432x288 with 1 Axes>"
            ]
          },
          "metadata": {
            "tags": []
          }
        }
      ]
    },
    {
      "cell_type": "markdown",
      "metadata": {
        "id": "aXjhJIWUFHrD",
        "colab_type": "text"
      },
      "source": [
        "**Влияние коэффициентов на параболу.**"
      ]
    },
    {
      "cell_type": "markdown",
      "metadata": {
        "id": "cdKNpDTOG-Op",
        "colab_type": "text"
      },
      "source": [
        "Дана функция вида: \n",
        "![alt text](https://pp.userapi.com/c857436/v857436897/31ac2/UrfFLiDjv30.jpg)"
      ]
    },
    {
      "cell_type": "markdown",
      "metadata": {
        "id": "KbTWhVlkHCOs",
        "colab_type": "text"
      },
      "source": [
        "Посмотрим график функции."
      ]
    },
    {
      "cell_type": "code",
      "metadata": {
        "id": "VDJfHP_rHQHA",
        "colab_type": "code",
        "colab": {}
      },
      "source": [
        "def polynom_(x, a):\n",
        "  y = a*x*x  + x + 0\n",
        "  return y"
      ],
      "execution_count": 0,
      "outputs": []
    },
    {
      "cell_type": "code",
      "metadata": {
        "id": "e41Bs83wFNPR",
        "colab_type": "code",
        "colab": {}
      },
      "source": [
        "x1 = np.linspace(-50, 50, 100)\n",
        "y1 = [polynom_(x1[i], 1/2) for i in range(len(x1))]\n",
        "y2 = [polynom_(x1[i], -1/2) for i in range(len(x1))]\n",
        "y3 = [polynom_(x1[i], 4) for i in range(len(x1))]\n",
        "y4 = [polynom_(x1[i], -1/8) for i in range(len(x1))]"
      ],
      "execution_count": 0,
      "outputs": []
    },
    {
      "cell_type": "code",
      "metadata": {
        "id": "BBVfuhJ2Jgk3",
        "colab_type": "code",
        "outputId": "2e344fbc-3a77-4ab5-90b5-44dcfb7093dc",
        "colab": {
          "base_uri": "https://localhost:8080/",
          "height": 294
        }
      },
      "source": [
        "plt.figure(figsize=(12, 4))\n",
        "\n",
        "plt.subplot(141)\n",
        "plt.plot(x1,y1)\n",
        "plt.ylim(0, 500)\n",
        "plt.title('a=1/2')\n",
        "plt.subplot(142)\n",
        "plt.plot(x1,y2)\n",
        "plt.ylim(-500, 0)\n",
        "plt.title('a=-1/2')\n",
        "plt.subplot(143)\n",
        "plt.plot(x1,y3)\n",
        "plt.ylim(0, 500)\n",
        "plt.title('a=4')\n",
        "plt.subplot(144)\n",
        "plt.plot(x1,y4)\n",
        "plt.ylim(-500, 0)\n",
        "plt.title('a=-1/8')\n",
        "plt.suptitle('Зависимость графика от коэффициента a')\n",
        "plt.show()"
      ],
      "execution_count": 0,
      "outputs": [
        {
          "output_type": "display_data",
          "data": {
            "image/png": "[encoded data removed]",
            "text/plain": [
              "<Figure size 864x288 with 4 Axes>"
            ]
          },
          "metadata": {
            "tags": []
          }
        }
      ]
    },
    {
      "cell_type": "markdown",
      "metadata": {
        "id": "Sfi3dNUtOC6b",
        "colab_type": "text"
      },
      "source": [
        "Можно заметить, что при положительном параметре a ветви параболы направлены вверх, а при отрицательном a ветви параболы направлены вниз. Чем больше a по абсолютному значению, тем тоньще график. Чем ближе значение a к 0, тем толще график параболы."
      ]
    },
    {
      "cell_type": "markdown",
      "metadata": {
        "id": "4NgpUvsxHfji",
        "colab_type": "text"
      },
      "source": [
        "Рассмотрим следующую функцию: ![alt text](https://pp.userapi.com/c854224/v854224862/ac7fa/3eMdMqi0jDM.jpg)"
      ]
    },
    {
      "cell_type": "markdown",
      "metadata": {
        "id": "DSEz5lLVMU7I",
        "colab_type": "text"
      },
      "source": [
        "Посмотрим влияние коэффициентов на функцию."
      ]
    },
    {
      "cell_type": "code",
      "metadata": {
        "id": "m86lKH2CMZ96",
        "colab_type": "code",
        "colab": {}
      },
      "source": [
        "def polynom_bc(x, b, c):\n",
        "  y = x*x  + b*x + c\n",
        "  return y"
      ],
      "execution_count": 0,
      "outputs": []
    },
    {
      "cell_type": "code",
      "metadata": {
        "id": "CcSJX1A4Mvo2",
        "colab_type": "code",
        "colab": {}
      },
      "source": [
        "x1 = np.linspace(-10, 10, 100)\n",
        "y1 = [polynom_bc(x1[i], 2, 10) for i in range(len(x1))]\n",
        "y2 = [polynom_bc(x1[i], -10, -10) for i in range(len(x1))]\n",
        "y3 = [polynom_bc(x1[i], 1/4, 1) for i in range(len(x1))]\n",
        "y4 = [polynom_bc(x1[i], -1/4, -1) for i in range(len(x1))]"
      ],
      "execution_count": 0,
      "outputs": []
    },
    {
      "cell_type": "code",
      "metadata": {
        "id": "tV9HVqsKNApy",
        "colab_type": "code",
        "outputId": "5056fc6c-82c1-4fd1-e056-2eaed0b9a59c",
        "colab": {
          "base_uri": "https://localhost:8080/",
          "height": 294
        }
      },
      "source": [
        "plt.figure(figsize=(12, 4))\n",
        "\n",
        "plt.subplot(141)\n",
        "plt.plot(x1,y1)\n",
        "\n",
        "plt.title('b=2, c=10')\n",
        "plt.subplot(142)\n",
        "plt.plot(x1,y2)\n",
        "\n",
        "plt.title('b=-10, c=-10')\n",
        "plt.subplot(143)\n",
        "plt.plot(x1,y3)\n",
        "\n",
        "plt.title('b=1/4, c=1')\n",
        "plt.subplot(144)\n",
        "plt.plot(x1,y4)\n",
        "\n",
        "plt.title('b=-1/4, c=-1')\n",
        "plt.suptitle('Зависимость графика от коэффициентов b и c')\n",
        "plt.show()"
      ],
      "execution_count": 0,
      "outputs": [
        {
          "output_type": "display_data",
          "data": {
            "image/png": "[encoded data removed]",
            "text/plain": [
              "<Figure size 864x288 with 4 Axes>"
            ]
          },
          "metadata": {
            "tags": []
          }
        }
      ]
    },
    {
      "cell_type": "markdown",
      "metadata": {
        "id": "kA9WzwgCOfio",
        "colab_type": "text"
      },
      "source": [
        "Можно заметить, что параметр c сдвигает вершину параболы по оси Oy на число, заданное c. Параметр b сдвигает вершину параболы по оси Ox. "
      ]
    },
    {
      "cell_type": "markdown",
      "metadata": {
        "id": "5MO_RigJPU7Y",
        "colab_type": "text"
      },
      "source": [
        "# Как представить следующие функцию ввиде графика?"
      ]
    },
    {
      "cell_type": "markdown",
      "metadata": {
        "id": "QTg7QEJ1zG3r",
        "colab_type": "text"
      },
      "source": [
        "Не все функции можно представить ввиде единой формулы, но любую функцию можно представить ввиде нескольких формул. Допустим, имеются следующие графики:"
      ]
    },
    {
      "cell_type": "markdown",
      "metadata": {
        "id": "rtbQ4VyRzVqo",
        "colab_type": "text"
      },
      "source": [
        "![alt text](https://prod-edxapp.edx-cdn.org/assets/courseware/v1/463b9a96e26ca1a2f31e0e0565bdae47/asset-v1:DelftX+Calc001x+2T2019+type@asset+block/1.2_multigraph.png)"
      ]
    },
    {
      "cell_type": "markdown",
      "metadata": {
        "id": "9ywvYH5GzX21",
        "colab_type": "text"
      },
      "source": [
        "Чтобы определить количество необходимых функций для графиков, можно применить **правило вертикальной линии**: проводим вертикальную линию на всем промежутке аргумента функции и считаем, сколько раз линия графика пересекает данную линию. Количество пересечений линий - это и есть минимально необходимое количество функций для преставления графика. "
      ]
    },
    {
      "cell_type": "markdown",
      "metadata": {
        "id": "jO17GYXtz5N1",
        "colab_type": "text"
      },
      "source": [
        "Получается, что для графика A необходимо минимум 3 линии, описанные своими фуункциями, для графика B - 4 линии (или 2 уравнения окружности). "
      ]
    },
    {
      "cell_type": "code",
      "metadata": {
        "id": "QMoubQEXIld3",
        "colab_type": "code",
        "outputId": "062beaa7-a101-4313-c907-49f414657a56",
        "colab": {
          "base_uri": "https://localhost:8080/",
          "height": 295
        }
      },
      "source": [
        "import math\n",
        "x1 = np.linspace(-1.0, 1.0, 100)\n",
        "y1 = [math.pow((1 - (x1[i])**2), 0.5) for i in range(len(x1))]\n",
        "\n",
        "x2 = np.linspace(-1.0, 1.0, 100)\n",
        "y2 = [-math.pow((1 - (x1[i])**2), 0.5) for i in range(len(x1))]\n",
        "\n",
        "plt.plot(x1, y1, x2, y2)\n",
        "plt.title('График окружности из двух полиномов')\n",
        "plt.ylabel('y')\n",
        "plt.xlabel('x')\n",
        "plt.legend(['полином 1: x^2+y^2=1', 'Полином 2: x^2+y^2=-1'])\n",
        "\n",
        "plt.show()"
      ],
      "execution_count": 0,
      "outputs": [
        {
          "output_type": "display_data",
          "data": {
            "image/png": "[encoded data removed]",
            "text/plain": [
              "<Figure size 432x288 with 1 Axes>"
            ]
          },
          "metadata": {
            "tags": []
          }
        }
      ]
    },
    {
      "cell_type": "code",
      "metadata": {
        "id": "tTK2koDuK9EK",
        "colab_type": "code",
        "outputId": "2cb2ff52-f904-4c84-f352-d7ed5e61869b",
        "colab": {
          "base_uri": "https://localhost:8080/",
          "height": 295
        }
      },
      "source": [
        "x1 = np.linspace(-3.0, 1.0, 100)\n",
        "y1 = [math.pow((4 - (x1[i]+1)**2), 0.5) for i in range(len(x1))]\n",
        "\n",
        "x2 = np.linspace(-1.0, 3.0, 100)\n",
        "y2 = [math.pow((4 - (x2[i]-1)**2), 0.5) for i in range(len(x1))]\n",
        "\n",
        "x3 = np.linspace(-3.0, 1.0, 100)\n",
        "y3 = [-math.pow((4 - (x3[i]+1)**2), 0.5) for i in range(len(x1))]\n",
        "\n",
        "x4 = np.linspace(-1.0, 3.0, 100)\n",
        "y4 = [-math.pow((4 - (x4[i]-1)**2), 0.5) for i in range(len(x1))]\n",
        "\n",
        "plt.plot(x1, y1, x2, y2, x3, y3, x4, y4)\n",
        "plt.title('График окружности из двух полиномов')\n",
        "plt.ylabel('y')\n",
        "plt.xlabel('x')\n",
        "plt.legend(['полином 1', 'Полином 2', 'Полином 3', 'Полином 4'])\n",
        "\n",
        "plt.show()"
      ],
      "execution_count": 0,
      "outputs": [
        {
          "output_type": "display_data",
          "data": {
            "image/png": "[encoded data removed]",
            "text/plain": [
              "<Figure size 432x288 with 1 Axes>"
            ]
          },
          "metadata": {
            "tags": []
          }
        }
      ]
    },
    {
      "cell_type": "markdown",
      "metadata": {
        "id": "qaKxadGIaXU9",
        "colab_type": "text"
      },
      "source": [
        "# Вычисление корней полинома."
      ]
    },
    {
      "cell_type": "markdown",
      "metadata": {
        "id": "oUZ97rynadFr",
        "colab_type": "text"
      },
      "source": [
        "Полином задан ввиде списка коэффициентов. \n",
        "Например, полином $y=x^4-2x^2+1/2$ будет задан ввиде p=[1, 0, -2, 0, 1/2]"
      ]
    },
    {
      "cell_type": "code",
      "metadata": {
        "id": "lLgV0EmGaabj",
        "colab_type": "code",
        "colab": {
          "base_uri": "https://localhost:8080/",
          "height": 34
        },
        "outputId": "522c0a72-22b4-4b8c-8299-1dea802cb66b"
      },
      "source": [
        "import numpy as np\n",
        "from numpy import roots\n",
        "p = [1, 0, -2, 0, 0.5]\n",
        "roots(p)"
      ],
      "execution_count": 5,
      "outputs": [
        {
          "output_type": "execute_result",
          "data": {
            "text/plain": [
              "array([-1.30656296,  1.30656296, -0.5411961 ,  0.5411961 ])"
            ]
          },
          "metadata": {
            "tags": []
          },
          "execution_count": 5
        }
      ]
    },
    {
      "cell_type": "markdown",
      "metadata": {
        "id": "c-JA6tkAbDNa",
        "colab_type": "text"
      },
      "source": [
        "Построим график полинома:"
      ]
    },
    {
      "cell_type": "code",
      "metadata": {
        "id": "KrDzY3YPbGyS",
        "colab_type": "code",
        "colab": {
          "base_uri": "https://localhost:8080/",
          "height": 295
        },
        "outputId": "3d4e8345-e351-440e-8211-5d8ec9e6935d"
      },
      "source": [
        "x = np.linspace(-2.0, 2.0, 100)\n",
        "y = [x[i]**4 - 2*x[i]**2 + 0.5 for i in range(len(x))]\n",
        "plt.plot(x, y)\n",
        "plt.title('График полинома y=x^4-2x^2+1/2')\n",
        "plt.ylabel('y')\n",
        "plt.xlabel('x')\n",
        "\n",
        "plt.show()"
      ],
      "execution_count": 9,
      "outputs": [
        {
          "output_type": "display_data",
          "data": {
            "image/png": "[encoded data removed]",
            "text/plain": [
              "<Figure size 432x288 with 1 Axes>"
            ]
          },
          "metadata": {
            "tags": []
          }
        }
      ]
    },
    {
      "cell_type": "markdown",
      "metadata": {
        "id": "fzbzcwf9bzcD",
        "colab_type": "text"
      },
      "source": [
        "Можно заметить, что корни, найденные в предыдущем примере, действительно совпадают с тем, что можно увидеть на графике."
      ]
    },
    {
      "cell_type": "markdown",
      "metadata": {
        "id": "WN5c00p1T8TG",
        "colab_type": "text"
      },
      "source": [
        "# Вычисление производной функции."
      ]
    },
    {
      "cell_type": "markdown",
      "metadata": {
        "id": "ObmV0ID6UknW",
        "colab_type": "text"
      },
      "source": [
        "библиотека SymPy (от слов Symbolic math и Python):"
      ]
    },
    {
      "cell_type": "code",
      "metadata": {
        "id": "XXFIz6EhiCvG",
        "colab_type": "code",
        "colab": {
          "base_uri": "https://localhost:8080/",
          "height": 34
        },
        "outputId": "cd9e5374-f11d-469f-fe1b-85e2fc4a6d9b"
      },
      "source": [
        "from sympy import diff, symbols, cos, sin\n",
        "x, y = symbols('x y')\n",
        "diff(cos(x))"
      ],
      "execution_count": 1,
      "outputs": [
        {
          "output_type": "execute_result",
          "data": {
            "text/plain": [
              "-sin(x)"
            ]
          },
          "metadata": {
            "tags": []
          },
          "execution_count": 1
        }
      ]
    },
    {
      "cell_type": "code",
      "metadata": {
        "id": "taylKfnDUwzl",
        "colab_type": "code",
        "colab": {
          "base_uri": "https://localhost:8080/",
          "height": 34
        },
        "outputId": "62785783-6205-47d6-b6d6-8681ffba9aa8"
      },
      "source": [
        "diff(cos(x) + 1j*sin(y), x)"
      ],
      "execution_count": 2,
      "outputs": [
        {
          "output_type": "execute_result",
          "data": {
            "text/plain": [
              "-sin(x)"
            ]
          },
          "metadata": {
            "tags": []
          },
          "execution_count": 2
        }
      ]
    },
    {
      "cell_type": "code",
      "metadata": {
        "id": "utEpr7jWUzlg",
        "colab_type": "code",
        "colab": {
          "base_uri": "https://localhost:8080/",
          "height": 34
        },
        "outputId": "28458346-7b13-4b5d-b1ad-89dc661f558d"
      },
      "source": [
        "diff(cos(x) + 1j*sin(y), y)"
      ],
      "execution_count": 3,
      "outputs": [
        {
          "output_type": "execute_result",
          "data": {
            "text/plain": [
              "1.0*I*cos(y)"
            ]
          },
          "metadata": {
            "tags": []
          },
          "execution_count": 3
        }
      ]
    },
    {
      "cell_type": "markdown",
      "metadata": {
        "id": "-qf9atWpY1ee",
        "colab_type": "text"
      },
      "source": [
        "# Вычисление минимума и максимума функции."
      ]
    },
    {
      "cell_type": "markdown",
      "metadata": {
        "id": "ve_dpTAeY7EV",
        "colab_type": "text"
      },
      "source": [
        "Есть функция: \n",
        "\n",
        "$$y=x^4-2x^2+1/2$$"
      ]
    },
    {
      "cell_type": "markdown",
      "metadata": {
        "id": "ekaei0upZrYQ",
        "colab_type": "text"
      },
      "source": [
        "Найдем минимум и максимум функции.\n",
        "\n",
        "1) сгенерируем отрезок, на котором будем искать минимум и максимум;\n",
        "\n",
        "2) найдем значение функции на данном отрезке;\n",
        "\n",
        "3) найдем минимум и максимум."
      ]
    },
    {
      "cell_type": "code",
      "metadata": {
        "id": "9ZDQv2h9Zqg_",
        "colab_type": "code",
        "colab": {
          "base_uri": "https://localhost:8080/",
          "height": 85
        },
        "outputId": "7aa4bac5-8906-4a44-f46b-7cb740e4bf85"
      },
      "source": [
        "x = np.linspace(-2.0, 2.0, 100)\n",
        "y = [x[i]**4 - 2*x[i]**2 + 0.5 for i in range(len(x))]\n",
        "min_x = np.argmin(y)\n",
        "print('x значение, при котором y минимально: ', x[min_x])\n",
        "min_y = min(y)\n",
        "print('минимальное значение функции: ', y[min_x])\n",
        "max_x = np.argmax(y)\n",
        "print('x значение, при котором y максимально: ', x[max_x])\n",
        "print('максимальное значение функции: ', y[max_x])"
      ],
      "execution_count": 13,
      "outputs": [
        {
          "output_type": "stream",
          "text": [
            "x значение, при котором y минимально:  -0.9898989898989898\n",
            "минимальное значение функции:  -0.4995959904101622\n",
            "x значение, при котором y максимально:  -2.0\n",
            "максимальное значение функции:  8.5\n"
          ],
          "name": "stdout"
        }
      ]
    }
  ]
}
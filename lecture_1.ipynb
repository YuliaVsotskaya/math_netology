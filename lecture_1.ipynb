{
  "nbformat": 4,
  "nbformat_minor": 0,
  "metadata": {
    "colab": {
      "name": "Untitled",
      "version": "0.3.2",
      "provenance": [],
      "toc_visible": true,
      "include_colab_link": true
    },
    "kernelspec": {
      "name": "python3",
      "display_name": "Python 3"
    }
  },
  "cells": [
    {
      "cell_type": "markdown",
      "metadata": {
        "id": "view-in-github",
        "colab_type": "text"
      },
      "source": [
        "<a href=\"https://colab.research.google.com/github/yustinaivanova/math_netology/blob/master/lecture_1.ipynb\" target=\"_parent\"><img src=\"https://colab.research.google.com/assets/colab-badge.svg\" alt=\"Open In Colab\"/></a>"
      ]
    },
    {
      "cell_type": "markdown",
      "metadata": {
        "id": "n-H_wCGwiF0-",
        "colab_type": "text"
      },
      "source": [
        "# Основы математики для data science"
      ]
    },
    {
      "cell_type": "markdown",
      "metadata": {
        "id": "sZivAPVGiMFM",
        "colab_type": "text"
      },
      "source": [
        "**Функция (отражение, оператор, преобразование)** - в математике соответствие между элементами двух множеств, установленное по такому правилу, что каждому элементу одного множества ставится в соответствие некоторый элемент из другого множества."
      ]
    },
    {
      "cell_type": "markdown",
      "metadata": {
        "id": "jhSmadmWis5h",
        "colab_type": "text"
      },
      "source": [
        "Функция может быть представлена несколькими способами:\n",
        "\n",
        "\n",
        "*   математически (с помощью формулы)\n",
        "*   графически (график)\n",
        "*   таблично (с помощью таблицы)\n",
        "*   программно (python код)\n",
        "\n"
      ]
    },
    {
      "cell_type": "markdown",
      "metadata": {
        "id": "sE0QpYBTlICN",
        "colab_type": "text"
      },
      "source": [
        "Иногда удобно представить функцию ввиде нескольких формул вместо одной. Например, функция y=abs(x). Если мы хотим записать алгоритм функции, легче всего разделить пространство аргументов на плоскости на 2 отрезка: от $-\\infty$ до 0 включительно и от 0 до $+\\infty $"
      ]
    },
    {
      "cell_type": "markdown",
      "metadata": {
        "id": "7I7cBeQRlF4F",
        "colab_type": "text"
      },
      "source": [
        "![alt text](https://pp.userapi.com/c858028/v858028826/2c07f/SOjKZptkdXU.jpg)"
      ]
    },
    {
      "cell_type": "markdown",
      "metadata": {
        "id": "zil1HUcIoqYW",
        "colab_type": "text"
      },
      "source": [
        "На графике функции различают точки, не включенные в график, с помощью \"выколотых\" точек (точка (0, 1) на графике). Точку, ключенную в график, показывают увеличенного размера (точка (0, 2) на графике)"
      ]
    },
    {
      "cell_type": "markdown",
      "metadata": {
        "id": "uE0mmE4eooTn",
        "colab_type": "text"
      },
      "source": [
        "![alt text](https://prod-edxapp.edx-cdn.org/assets/courseware/v1/1373e2e5713de274ce4c2ed8bd2697cc/asset-v1:DelftX+Calc001x+2T2019+type@asset+block/1.2_graph_with_jump.png)"
      ]
    },
    {
      "cell_type": "markdown",
      "metadata": {
        "id": "_zO4X1fLpruw",
        "colab_type": "text"
      },
      "source": [
        "Напишем код для задания функции и отрисовки графика функции."
      ]
    },
    {
      "cell_type": "code",
      "metadata": {
        "id": "xZq3xa85vw1Q",
        "colab_type": "code",
        "outputId": "8f5d035e-8227-4374-de57-c3d8a23ab9cb",
        "colab": {
          "base_uri": "https://localhost:8080/",
          "height": 177
        }
      },
      "source": [
        "import numpy as np\n",
        "import matplotlib.pyplot as plt\n",
        "import pandas as pd\n",
        "%matplotlib inline\n",
        "\n",
        "x1 = np.linspace(-3.0, 3.0, 100)\n",
        "\n",
        "y1 = [1 for _ in range(len(x1))]\n",
        "y1[len(x1)//2] = 2\n",
        "\n",
        "plt.subplot(2, 1, 1)\n",
        "plt.scatter(x1, y1, marker='o')\n",
        "plt.scatter(0, 1, s=100, marker='o')\n",
        "plt.scatter(0, 1, s=50, marker='o', c='white')\n",
        "plt.title('График функции с включенной и выколотой точкой')\n",
        "plt.ylabel('y')\n",
        "plt.xlabel('x')\n",
        "plt.ylim(0, 3)\n",
        "\n",
        "plt.show()"
      ],
      "execution_count": 0,
      "outputs": [
        {
          "output_type": "display_data",
          "data": {
            "image/png": "[encoded data removed]",
            "text/plain": [
              "<Figure size 432x288 with 1 Axes>"
            ]
          },
          "metadata": {
            "tags": []
          }
        }
      ]
    },
    {
      "cell_type": "markdown",
      "metadata": {
        "id": "QTg7QEJ1zG3r",
        "colab_type": "text"
      },
      "source": [
        "Не все функции можно представить ввиде единой формулы, но любую функцию можно представить ввиде нескольких формул. Допустим, имеются следующие графики:"
      ]
    },
    {
      "cell_type": "markdown",
      "metadata": {
        "id": "rtbQ4VyRzVqo",
        "colab_type": "text"
      },
      "source": [
        "![alt text](https://prod-edxapp.edx-cdn.org/assets/courseware/v1/463b9a96e26ca1a2f31e0e0565bdae47/asset-v1:DelftX+Calc001x+2T2019+type@asset+block/1.2_multigraph.png)"
      ]
    },
    {
      "cell_type": "markdown",
      "metadata": {
        "id": "9ywvYH5GzX21",
        "colab_type": "text"
      },
      "source": [
        "Чтобы определить количество необходимых функций для графиков, можно применить **правило вертикальной линии**: проводим вертикальную линию на всем промежутке аргумента функции и считаем, сколько раз линия графика пересекает данную линию. Количество пересечений линий - это и есть минимально необходимое количество функций для преставления графика. "
      ]
    },
    {
      "cell_type": "markdown",
      "metadata": {
        "id": "jO17GYXtz5N1",
        "colab_type": "text"
      },
      "source": [
        "Получается, что для графика A необходимо минимум 3 линии, описанные своими фуункциями, для графика B - 4 линии (или 2 уравнения окружности). "
      ]
    },
    {
      "cell_type": "markdown",
      "metadata": {
        "id": "MEJQ3DTsQTrz",
        "colab_type": "text"
      },
      "source": [
        "# Полиномиальные функции."
      ]
    },
    {
      "cell_type": "markdown",
      "metadata": {
        "id": "p41NVHbmQnAn",
        "colab_type": "text"
      },
      "source": [
        "Целая рациональная функция (также полиномиальная функция) — числовая функция одного действительного переменного вида:\n",
        "$$f(x) = a_{n}x^{n}+a_{n-1}x^{n-1}+...+a_{2}x^{2}+a_{1}x+a_{0}=\\sum_{i=0}^{n}a_{i}x^{i}$$,\n",
        "где $n\\in \\mathbb{N}, a_{n},a_{n-1},...,a_{2},a_{1},a_{0}\\in \\mathbb{R}, a_{n}\\neq 0$"
      ]
    },
    {
      "cell_type": "code",
      "metadata": {
        "id": "XXFIz6EhiCvG",
        "colab_type": "code",
        "colab": {}
      },
      "source": [
        ""
      ],
      "execution_count": 0,
      "outputs": []
    }
  ]
}
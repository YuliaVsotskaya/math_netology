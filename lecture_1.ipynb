{
  "nbformat": 4,
  "nbformat_minor": 0,
  "metadata": {
    "colab": {
      "name": "Untitled2.ipynb",
      "version": "0.3.2",
      "provenance": [],
      "toc_visible": true,
      "include_colab_link": true
    },
    "kernelspec": {
      "name": "python3",
      "display_name": "Python 3"
    }
  },
  "cells": [
    {
      "cell_type": "markdown",
      "metadata": {
        "id": "view-in-github",
        "colab_type": "text"
      },
      "source": [
        "<a href=\"https://colab.research.google.com/github/yustinaivanova/math_netology/blob/master/lecture_1.ipynb\" target=\"_parent\"><img src=\"https://colab.research.google.com/assets/colab-badge.svg\" alt=\"Open In Colab\"/></a>"
      ]
    },
    {
      "cell_type": "markdown",
      "metadata": {
        "id": "n-H_wCGwiF0-",
        "colab_type": "text"
      },
      "source": [
        "# Основы математики для data science"
      ]
    },
    {
      "cell_type": "markdown",
      "metadata": {
        "id": "sZivAPVGiMFM",
        "colab_type": "text"
      },
      "source": [
        "**Функция (отражение, оператор, преобразование)** - в математике соответствие между элементами двух множеств, установленное по такому правилу, что каждому элементу одного множества ставится в соответствие некоторый элемент из другого множества."
      ]
    },
    {
      "cell_type": "markdown",
      "metadata": {
        "id": "jhSmadmWis5h",
        "colab_type": "text"
      },
      "source": [
        "Функция может быть представлена несколькими способами:\n",
        "\n",
        "\n",
        "*   математически (с помощью формулы)\n",
        "*   графически (график)\n",
        "*   таблично (с помощью таблицы)\n",
        "*   программно (python код)\n",
        "\n"
      ]
    },
    {
      "cell_type": "markdown",
      "metadata": {
        "id": "sE0QpYBTlICN",
        "colab_type": "text"
      },
      "source": [
        "Иногда удобно представить функцию ввиде нескольких формул вместо одной. Например, функция y=abs(x). Если мы хотим записать алгоритм функции, легче всего разделить пространство аргументов на плоскости на 2 отрезка: от $-\\infty$ до 0 включительно и от 0 до $+\\infty $"
      ]
    },
    {
      "cell_type": "markdown",
      "metadata": {
        "id": "7I7cBeQRlF4F",
        "colab_type": "text"
      },
      "source": [
        "![alt text](https://pp.userapi.com/c858028/v858028826/2c07f/SOjKZptkdXU.jpg)"
      ]
    },
    {
      "cell_type": "markdown",
      "metadata": {
        "id": "zil1HUcIoqYW",
        "colab_type": "text"
      },
      "source": [
        "На графике функции различают точки, не включенные в график, с помощью \"выколотых\" точек (точка (0, 1) на графике). Точку, ключенную в график, показывают увеличенного размера (точка (0, 2) на графике)"
      ]
    },
    {
      "cell_type": "markdown",
      "metadata": {
        "id": "uE0mmE4eooTn",
        "colab_type": "text"
      },
      "source": [
        "![alt text](https://prod-edxapp.edx-cdn.org/assets/courseware/v1/1373e2e5713de274ce4c2ed8bd2697cc/asset-v1:DelftX+Calc001x+2T2019+type@asset+block/1.2_graph_with_jump.png)"
      ]
    },
    {
      "cell_type": "markdown",
      "metadata": {
        "id": "_zO4X1fLpruw",
        "colab_type": "text"
      },
      "source": [
        "Напишем код для задания функции и отрисовки графика функции."
      ]
    },
    {
      "cell_type": "code",
      "metadata": {
        "id": "XXFIz6EhiCvG",
        "colab_type": "code",
        "colab": {}
      },
      "source": [
        ""
      ],
      "execution_count": 0,
      "outputs": []
    }
  ]
}